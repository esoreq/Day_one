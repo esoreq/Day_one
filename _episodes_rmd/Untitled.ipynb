{
 "cells": [
  {
   "cell_type": "markdown",
   "id": "smaller-martin",
   "metadata": {},
   "source": [
    "---\n",
    "title: \"Python Overview\"\n",
    "author: \"Dr. Eyal Soreq\" \n",
    "start: true\n",
    "date: \"05/03/2021\"\n",
    "teaching: 15\n",
    "exercises: 0\n",
    "questions:\n",
    "- What is Python?\n",
    "- Why Python?\n",
    "objectives:\n",
    "- Understand what are the benefits of using Python as a central tool in your PhD.\n",
    "- Understand Pythons position in the crowded data analytics ecosystem\n",
    "keypoints:\n",
    "- Python is an easy and versatile programming language\n",
    "- It has the largest open-source community\n",
    "- Python is a dynamic programming language\n",
    "- Python in conjunction with Jupyter Notebook provides an optimal solution for almost all  research projects\n",
    "---"
   ]
  },
  {
   "cell_type": "markdown",
   "id": "lightweight-contributor",
   "metadata": {},
   "source": [
    "# What is Python?\n",
    "- [Python](https://www.python.org/) is a popular high-level, object-oriented, interpreted programming language created by a developer called Guido Van Rossum.\n",
    "\n",
    ">  Python is powerful... and fast;  \n",
    "plays well with others;  \n",
    "runs everywhere;  \n",
    "is friendly & easy to learn;  \n",
    "is Open.  \n",
    "> *Taken from Python website*"
   ]
  },
  {
   "cell_type": "markdown",
   "id": "motivated-handy",
   "metadata": {},
   "source": [
    "# Why Python?\n",
    "\n",
    "- It is easy to learn and master, and its syntax is straightforward to both learn and read. \n",
    "- In the context of Data Science in general and specifically in neuroscience it is quickly the new lingua franca of the field. \n",
    "- It is popular beyond the academia"
   ]
  },
  {
   "cell_type": "code",
   "execution_count": 21,
   "id": "employed-dream",
   "metadata": {},
   "outputs": [
    {
     "name": "stdout",
     "output_type": "stream",
     "text": [
      "Collecting pandas_bokeh\n",
      "  Downloading pandas_bokeh-0.5.5-py2.py3-none-any.whl (29 kB)\n",
      "Requirement already satisfied: bokeh>=2.0 in /Users/eyalsoreq/opt/anaconda3/envs/Sleep_DRI/lib/python3.8/site-packages (from pandas_bokeh) (2.3.0)\n",
      "Requirement already satisfied: pandas>=0.22.0 in /Users/eyalsoreq/opt/anaconda3/envs/Sleep_DRI/lib/python3.8/site-packages (from pandas_bokeh) (1.2.3)\n",
      "Requirement already satisfied: packaging>=16.8 in /Users/eyalsoreq/opt/anaconda3/envs/Sleep_DRI/lib/python3.8/site-packages (from bokeh>=2.0->pandas_bokeh) (20.9)\n",
      "Requirement already satisfied: python-dateutil>=2.1 in /Users/eyalsoreq/opt/anaconda3/envs/Sleep_DRI/lib/python3.8/site-packages (from bokeh>=2.0->pandas_bokeh) (2.8.1)\n",
      "Requirement already satisfied: tornado>=5.1 in /Users/eyalsoreq/opt/anaconda3/envs/Sleep_DRI/lib/python3.8/site-packages (from bokeh>=2.0->pandas_bokeh) (6.1)\n",
      "Requirement already satisfied: typing-extensions>=3.7.4 in /Users/eyalsoreq/opt/anaconda3/envs/Sleep_DRI/lib/python3.8/site-packages (from bokeh>=2.0->pandas_bokeh) (3.7.4.3)\n",
      "Requirement already satisfied: numpy>=1.11.3 in /Users/eyalsoreq/opt/anaconda3/envs/Sleep_DRI/lib/python3.8/site-packages (from bokeh>=2.0->pandas_bokeh) (1.19.2)\n",
      "Requirement already satisfied: pillow>=7.1.0 in /Users/eyalsoreq/opt/anaconda3/envs/Sleep_DRI/lib/python3.8/site-packages (from bokeh>=2.0->pandas_bokeh) (8.1.2)\n",
      "Requirement already satisfied: PyYAML>=3.10 in /Users/eyalsoreq/opt/anaconda3/envs/Sleep_DRI/lib/python3.8/site-packages (from bokeh>=2.0->pandas_bokeh) (5.3.1)\n",
      "Requirement already satisfied: Jinja2>=2.7 in /Users/eyalsoreq/opt/anaconda3/envs/Sleep_DRI/lib/python3.8/site-packages (from bokeh>=2.0->pandas_bokeh) (2.11.3)\n",
      "Requirement already satisfied: MarkupSafe>=0.23 in /Users/eyalsoreq/opt/anaconda3/envs/Sleep_DRI/lib/python3.8/site-packages (from Jinja2>=2.7->bokeh>=2.0->pandas_bokeh) (1.1.1)\n",
      "Requirement already satisfied: pyparsing>=2.0.2 in /Users/eyalsoreq/opt/anaconda3/envs/Sleep_DRI/lib/python3.8/site-packages (from packaging>=16.8->bokeh>=2.0->pandas_bokeh) (2.4.7)\n",
      "Requirement already satisfied: pytz>=2017.3 in /Users/eyalsoreq/opt/anaconda3/envs/Sleep_DRI/lib/python3.8/site-packages (from pandas>=0.22.0->pandas_bokeh) (2021.1)\n",
      "Requirement already satisfied: six>=1.5 in /Users/eyalsoreq/opt/anaconda3/envs/Sleep_DRI/lib/python3.8/site-packages (from python-dateutil>=2.1->bokeh>=2.0->pandas_bokeh) (1.15.0)\n",
      "Installing collected packages: pandas-bokeh\n",
      "Successfully installed pandas-bokeh-0.5.5\n",
      "Note: you may need to restart the kernel to use updated packages.\n"
     ]
    }
   ],
   "source": [
    "pip install pandas_bokeh\n"
   ]
  },
  {
   "cell_type": "code",
   "execution_count": 23,
   "id": "printable-bottle",
   "metadata": {},
   "outputs": [
    {
     "data": {
      "text/html": [
       "\n",
       "    <div class=\"bk-root\">\n",
       "        <a href=\"https://bokeh.org\" target=\"_blank\" class=\"bk-logo bk-logo-small bk-logo-notebook\"></a>\n",
       "        <span id=\"1002\">Loading BokehJS ...</span>\n",
       "    </div>"
      ]
     },
     "metadata": {},
     "output_type": "display_data"
    },
    {
     "data": {
      "application/javascript": [
       "\n",
       "(function(root) {\n",
       "  function now() {\n",
       "    return new Date();\n",
       "  }\n",
       "\n",
       "  var force = true;\n",
       "\n",
       "  if (typeof root._bokeh_onload_callbacks === \"undefined\" || force === true) {\n",
       "    root._bokeh_onload_callbacks = [];\n",
       "    root._bokeh_is_loading = undefined;\n",
       "  }\n",
       "\n",
       "  var JS_MIME_TYPE = 'application/javascript';\n",
       "  var HTML_MIME_TYPE = 'text/html';\n",
       "  var EXEC_MIME_TYPE = 'application/vnd.bokehjs_exec.v0+json';\n",
       "  var CLASS_NAME = 'output_bokeh rendered_html';\n",
       "\n",
       "  /**\n",
       "   * Render data to the DOM node\n",
       "   */\n",
       "  function render(props, node) {\n",
       "    var script = document.createElement(\"script\");\n",
       "    node.appendChild(script);\n",
       "  }\n",
       "\n",
       "  /**\n",
       "   * Handle when an output is cleared or removed\n",
       "   */\n",
       "  function handleClearOutput(event, handle) {\n",
       "    var cell = handle.cell;\n",
       "\n",
       "    var id = cell.output_area._bokeh_element_id;\n",
       "    var server_id = cell.output_area._bokeh_server_id;\n",
       "    // Clean up Bokeh references\n",
       "    if (id != null && id in Bokeh.index) {\n",
       "      Bokeh.index[id].model.document.clear();\n",
       "      delete Bokeh.index[id];\n",
       "    }\n",
       "\n",
       "    if (server_id !== undefined) {\n",
       "      // Clean up Bokeh references\n",
       "      var cmd = \"from bokeh.io.state import curstate; print(curstate().uuid_to_server['\" + server_id + \"'].get_sessions()[0].document.roots[0]._id)\";\n",
       "      cell.notebook.kernel.execute(cmd, {\n",
       "        iopub: {\n",
       "          output: function(msg) {\n",
       "            var id = msg.content.text.trim();\n",
       "            if (id in Bokeh.index) {\n",
       "              Bokeh.index[id].model.document.clear();\n",
       "              delete Bokeh.index[id];\n",
       "            }\n",
       "          }\n",
       "        }\n",
       "      });\n",
       "      // Destroy server and session\n",
       "      var cmd = \"import bokeh.io.notebook as ion; ion.destroy_server('\" + server_id + \"')\";\n",
       "      cell.notebook.kernel.execute(cmd);\n",
       "    }\n",
       "  }\n",
       "\n",
       "  /**\n",
       "   * Handle when a new output is added\n",
       "   */\n",
       "  function handleAddOutput(event, handle) {\n",
       "    var output_area = handle.output_area;\n",
       "    var output = handle.output;\n",
       "\n",
       "    // limit handleAddOutput to display_data with EXEC_MIME_TYPE content only\n",
       "    if ((output.output_type != \"display_data\") || (!Object.prototype.hasOwnProperty.call(output.data, EXEC_MIME_TYPE))) {\n",
       "      return\n",
       "    }\n",
       "\n",
       "    var toinsert = output_area.element.find(\".\" + CLASS_NAME.split(' ')[0]);\n",
       "\n",
       "    if (output.metadata[EXEC_MIME_TYPE][\"id\"] !== undefined) {\n",
       "      toinsert[toinsert.length - 1].firstChild.textContent = output.data[JS_MIME_TYPE];\n",
       "      // store reference to embed id on output_area\n",
       "      output_area._bokeh_element_id = output.metadata[EXEC_MIME_TYPE][\"id\"];\n",
       "    }\n",
       "    if (output.metadata[EXEC_MIME_TYPE][\"server_id\"] !== undefined) {\n",
       "      var bk_div = document.createElement(\"div\");\n",
       "      bk_div.innerHTML = output.data[HTML_MIME_TYPE];\n",
       "      var script_attrs = bk_div.children[0].attributes;\n",
       "      for (var i = 0; i < script_attrs.length; i++) {\n",
       "        toinsert[toinsert.length - 1].firstChild.setAttribute(script_attrs[i].name, script_attrs[i].value);\n",
       "        toinsert[toinsert.length - 1].firstChild.textContent = bk_div.children[0].textContent\n",
       "      }\n",
       "      // store reference to server id on output_area\n",
       "      output_area._bokeh_server_id = output.metadata[EXEC_MIME_TYPE][\"server_id\"];\n",
       "    }\n",
       "  }\n",
       "\n",
       "  function register_renderer(events, OutputArea) {\n",
       "\n",
       "    function append_mime(data, metadata, element) {\n",
       "      // create a DOM node to render to\n",
       "      var toinsert = this.create_output_subarea(\n",
       "        metadata,\n",
       "        CLASS_NAME,\n",
       "        EXEC_MIME_TYPE\n",
       "      );\n",
       "      this.keyboard_manager.register_events(toinsert);\n",
       "      // Render to node\n",
       "      var props = {data: data, metadata: metadata[EXEC_MIME_TYPE]};\n",
       "      render(props, toinsert[toinsert.length - 1]);\n",
       "      element.append(toinsert);\n",
       "      return toinsert\n",
       "    }\n",
       "\n",
       "    /* Handle when an output is cleared or removed */\n",
       "    events.on('clear_output.CodeCell', handleClearOutput);\n",
       "    events.on('delete.Cell', handleClearOutput);\n",
       "\n",
       "    /* Handle when a new output is added */\n",
       "    events.on('output_added.OutputArea', handleAddOutput);\n",
       "\n",
       "    /**\n",
       "     * Register the mime type and append_mime function with output_area\n",
       "     */\n",
       "    OutputArea.prototype.register_mime_type(EXEC_MIME_TYPE, append_mime, {\n",
       "      /* Is output safe? */\n",
       "      safe: true,\n",
       "      /* Index of renderer in `output_area.display_order` */\n",
       "      index: 0\n",
       "    });\n",
       "  }\n",
       "\n",
       "  // register the mime type if in Jupyter Notebook environment and previously unregistered\n",
       "  if (root.Jupyter !== undefined) {\n",
       "    var events = require('base/js/events');\n",
       "    var OutputArea = require('notebook/js/outputarea').OutputArea;\n",
       "\n",
       "    if (OutputArea.prototype.mime_types().indexOf(EXEC_MIME_TYPE) == -1) {\n",
       "      register_renderer(events, OutputArea);\n",
       "    }\n",
       "  }\n",
       "\n",
       "  \n",
       "  if (typeof (root._bokeh_timeout) === \"undefined\" || force === true) {\n",
       "    root._bokeh_timeout = Date.now() + 5000;\n",
       "    root._bokeh_failed_load = false;\n",
       "  }\n",
       "\n",
       "  var NB_LOAD_WARNING = {'data': {'text/html':\n",
       "     \"<div style='background-color: #fdd'>\\n\"+\n",
       "     \"<p>\\n\"+\n",
       "     \"BokehJS does not appear to have successfully loaded. If loading BokehJS from CDN, this \\n\"+\n",
       "     \"may be due to a slow or bad network connection. Possible fixes:\\n\"+\n",
       "     \"</p>\\n\"+\n",
       "     \"<ul>\\n\"+\n",
       "     \"<li>re-rerun `output_notebook()` to attempt to load from CDN again, or</li>\\n\"+\n",
       "     \"<li>use INLINE resources instead, as so:</li>\\n\"+\n",
       "     \"</ul>\\n\"+\n",
       "     \"<code>\\n\"+\n",
       "     \"from bokeh.resources import INLINE\\n\"+\n",
       "     \"output_notebook(resources=INLINE)\\n\"+\n",
       "     \"</code>\\n\"+\n",
       "     \"</div>\"}};\n",
       "\n",
       "  function display_loaded() {\n",
       "    var el = document.getElementById(\"1002\");\n",
       "    if (el != null) {\n",
       "      el.textContent = \"BokehJS is loading...\";\n",
       "    }\n",
       "    if (root.Bokeh !== undefined) {\n",
       "      if (el != null) {\n",
       "        el.textContent = \"BokehJS \" + root.Bokeh.version + \" successfully loaded.\";\n",
       "      }\n",
       "    } else if (Date.now() < root._bokeh_timeout) {\n",
       "      setTimeout(display_loaded, 100)\n",
       "    }\n",
       "  }\n",
       "\n",
       "\n",
       "  function run_callbacks() {\n",
       "    try {\n",
       "      root._bokeh_onload_callbacks.forEach(function(callback) {\n",
       "        if (callback != null)\n",
       "          callback();\n",
       "      });\n",
       "    } finally {\n",
       "      delete root._bokeh_onload_callbacks\n",
       "    }\n",
       "    console.debug(\"Bokeh: all callbacks have finished\");\n",
       "  }\n",
       "\n",
       "  function load_libs(css_urls, js_urls, callback) {\n",
       "    if (css_urls == null) css_urls = [];\n",
       "    if (js_urls == null) js_urls = [];\n",
       "\n",
       "    root._bokeh_onload_callbacks.push(callback);\n",
       "    if (root._bokeh_is_loading > 0) {\n",
       "      console.debug(\"Bokeh: BokehJS is being loaded, scheduling callback at\", now());\n",
       "      return null;\n",
       "    }\n",
       "    if (js_urls == null || js_urls.length === 0) {\n",
       "      run_callbacks();\n",
       "      return null;\n",
       "    }\n",
       "    console.debug(\"Bokeh: BokehJS not loaded, scheduling load and callback at\", now());\n",
       "    root._bokeh_is_loading = css_urls.length + js_urls.length;\n",
       "\n",
       "    function on_load() {\n",
       "      root._bokeh_is_loading--;\n",
       "      if (root._bokeh_is_loading === 0) {\n",
       "        console.debug(\"Bokeh: all BokehJS libraries/stylesheets loaded\");\n",
       "        run_callbacks()\n",
       "      }\n",
       "    }\n",
       "\n",
       "    function on_error(url) {\n",
       "      console.error(\"failed to load \" + url);\n",
       "    }\n",
       "\n",
       "    for (let i = 0; i < css_urls.length; i++) {\n",
       "      const url = css_urls[i];\n",
       "      const element = document.createElement(\"link\");\n",
       "      element.onload = on_load;\n",
       "      element.onerror = on_error.bind(null, url);\n",
       "      element.rel = \"stylesheet\";\n",
       "      element.type = \"text/css\";\n",
       "      element.href = url;\n",
       "      console.debug(\"Bokeh: injecting link tag for BokehJS stylesheet: \", url);\n",
       "      document.body.appendChild(element);\n",
       "    }\n",
       "\n",
       "    const hashes = {\"https://cdn.bokeh.org/bokeh/release/bokeh-2.3.0.min.js\": \"HjagQp6T0/7bxYTAXbLotF1MLAGWmhkY5siA1Gc/pcEgvgRPtMsRn0gQtMwGKiw1\", \"https://cdn.bokeh.org/bokeh/release/bokeh-widgets-2.3.0.min.js\": \"ZEPPTjL+mdyqgIq+/pl9KTwzji8Kow2NnI3zWY8+sFinWP/SYJ80BnfeJsa45iYj\", \"https://cdn.bokeh.org/bokeh/release/bokeh-tables-2.3.0.min.js\": \"exLqv2ACDRIaV7ZK1iL8aGzGYQvKVuT3U2CT7FsQREBxRah6JrkVCoFy0koY1YqV\"};\n",
       "\n",
       "    for (let i = 0; i < js_urls.length; i++) {\n",
       "      const url = js_urls[i];\n",
       "      const element = document.createElement('script');\n",
       "      element.onload = on_load;\n",
       "      element.onerror = on_error.bind(null, url);\n",
       "      element.async = false;\n",
       "      element.src = url;\n",
       "      if (url in hashes) {\n",
       "        element.crossOrigin = \"anonymous\";\n",
       "        element.integrity = \"sha384-\" + hashes[url];\n",
       "      }\n",
       "      console.debug(\"Bokeh: injecting script tag for BokehJS library: \", url);\n",
       "      document.head.appendChild(element);\n",
       "    }\n",
       "  };\n",
       "\n",
       "  function inject_raw_css(css) {\n",
       "    const element = document.createElement(\"style\");\n",
       "    element.appendChild(document.createTextNode(css));\n",
       "    document.body.appendChild(element);\n",
       "  }\n",
       "\n",
       "  \n",
       "  var js_urls = [\"https://cdn.bokeh.org/bokeh/release/bokeh-2.3.0.min.js\", \"https://cdn.bokeh.org/bokeh/release/bokeh-widgets-2.3.0.min.js\", \"https://cdn.bokeh.org/bokeh/release/bokeh-tables-2.3.0.min.js\"];\n",
       "  var css_urls = [];\n",
       "  \n",
       "\n",
       "  var inline_js = [\n",
       "    function(Bokeh) {\n",
       "      Bokeh.set_log_level(\"info\");\n",
       "    },\n",
       "    function(Bokeh) {\n",
       "    \n",
       "    \n",
       "    }\n",
       "  ];\n",
       "\n",
       "  function run_inline_js() {\n",
       "    \n",
       "    if (root.Bokeh !== undefined || force === true) {\n",
       "      \n",
       "    for (var i = 0; i < inline_js.length; i++) {\n",
       "      inline_js[i].call(root, root.Bokeh);\n",
       "    }\n",
       "    if (force === true) {\n",
       "        display_loaded();\n",
       "      }} else if (Date.now() < root._bokeh_timeout) {\n",
       "      setTimeout(run_inline_js, 100);\n",
       "    } else if (!root._bokeh_failed_load) {\n",
       "      console.log(\"Bokeh: BokehJS failed to load within specified timeout.\");\n",
       "      root._bokeh_failed_load = true;\n",
       "    } else if (force !== true) {\n",
       "      var cell = $(document.getElementById(\"1002\")).parents('.cell').data().cell;\n",
       "      cell.output_area.append_execute_result(NB_LOAD_WARNING)\n",
       "    }\n",
       "\n",
       "  }\n",
       "\n",
       "  if (root._bokeh_is_loading === 0) {\n",
       "    console.debug(\"Bokeh: BokehJS loaded, going straight to plotting\");\n",
       "    run_inline_js();\n",
       "  } else {\n",
       "    load_libs(css_urls, js_urls, function() {\n",
       "      console.debug(\"Bokeh: BokehJS plotting callback run at\", now());\n",
       "      run_inline_js();\n",
       "    });\n",
       "  }\n",
       "}(window));"
      ],
      "application/vnd.bokehjs_load.v0+json": "\n(function(root) {\n  function now() {\n    return new Date();\n  }\n\n  var force = true;\n\n  if (typeof root._bokeh_onload_callbacks === \"undefined\" || force === true) {\n    root._bokeh_onload_callbacks = [];\n    root._bokeh_is_loading = undefined;\n  }\n\n  \n\n  \n  if (typeof (root._bokeh_timeout) === \"undefined\" || force === true) {\n    root._bokeh_timeout = Date.now() + 5000;\n    root._bokeh_failed_load = false;\n  }\n\n  var NB_LOAD_WARNING = {'data': {'text/html':\n     \"<div style='background-color: #fdd'>\\n\"+\n     \"<p>\\n\"+\n     \"BokehJS does not appear to have successfully loaded. If loading BokehJS from CDN, this \\n\"+\n     \"may be due to a slow or bad network connection. Possible fixes:\\n\"+\n     \"</p>\\n\"+\n     \"<ul>\\n\"+\n     \"<li>re-rerun `output_notebook()` to attempt to load from CDN again, or</li>\\n\"+\n     \"<li>use INLINE resources instead, as so:</li>\\n\"+\n     \"</ul>\\n\"+\n     \"<code>\\n\"+\n     \"from bokeh.resources import INLINE\\n\"+\n     \"output_notebook(resources=INLINE)\\n\"+\n     \"</code>\\n\"+\n     \"</div>\"}};\n\n  function display_loaded() {\n    var el = document.getElementById(\"1002\");\n    if (el != null) {\n      el.textContent = \"BokehJS is loading...\";\n    }\n    if (root.Bokeh !== undefined) {\n      if (el != null) {\n        el.textContent = \"BokehJS \" + root.Bokeh.version + \" successfully loaded.\";\n      }\n    } else if (Date.now() < root._bokeh_timeout) {\n      setTimeout(display_loaded, 100)\n    }\n  }\n\n\n  function run_callbacks() {\n    try {\n      root._bokeh_onload_callbacks.forEach(function(callback) {\n        if (callback != null)\n          callback();\n      });\n    } finally {\n      delete root._bokeh_onload_callbacks\n    }\n    console.debug(\"Bokeh: all callbacks have finished\");\n  }\n\n  function load_libs(css_urls, js_urls, callback) {\n    if (css_urls == null) css_urls = [];\n    if (js_urls == null) js_urls = [];\n\n    root._bokeh_onload_callbacks.push(callback);\n    if (root._bokeh_is_loading > 0) {\n      console.debug(\"Bokeh: BokehJS is being loaded, scheduling callback at\", now());\n      return null;\n    }\n    if (js_urls == null || js_urls.length === 0) {\n      run_callbacks();\n      return null;\n    }\n    console.debug(\"Bokeh: BokehJS not loaded, scheduling load and callback at\", now());\n    root._bokeh_is_loading = css_urls.length + js_urls.length;\n\n    function on_load() {\n      root._bokeh_is_loading--;\n      if (root._bokeh_is_loading === 0) {\n        console.debug(\"Bokeh: all BokehJS libraries/stylesheets loaded\");\n        run_callbacks()\n      }\n    }\n\n    function on_error(url) {\n      console.error(\"failed to load \" + url);\n    }\n\n    for (let i = 0; i < css_urls.length; i++) {\n      const url = css_urls[i];\n      const element = document.createElement(\"link\");\n      element.onload = on_load;\n      element.onerror = on_error.bind(null, url);\n      element.rel = \"stylesheet\";\n      element.type = \"text/css\";\n      element.href = url;\n      console.debug(\"Bokeh: injecting link tag for BokehJS stylesheet: \", url);\n      document.body.appendChild(element);\n    }\n\n    const hashes = {\"https://cdn.bokeh.org/bokeh/release/bokeh-2.3.0.min.js\": \"HjagQp6T0/7bxYTAXbLotF1MLAGWmhkY5siA1Gc/pcEgvgRPtMsRn0gQtMwGKiw1\", \"https://cdn.bokeh.org/bokeh/release/bokeh-widgets-2.3.0.min.js\": \"ZEPPTjL+mdyqgIq+/pl9KTwzji8Kow2NnI3zWY8+sFinWP/SYJ80BnfeJsa45iYj\", \"https://cdn.bokeh.org/bokeh/release/bokeh-tables-2.3.0.min.js\": \"exLqv2ACDRIaV7ZK1iL8aGzGYQvKVuT3U2CT7FsQREBxRah6JrkVCoFy0koY1YqV\"};\n\n    for (let i = 0; i < js_urls.length; i++) {\n      const url = js_urls[i];\n      const element = document.createElement('script');\n      element.onload = on_load;\n      element.onerror = on_error.bind(null, url);\n      element.async = false;\n      element.src = url;\n      if (url in hashes) {\n        element.crossOrigin = \"anonymous\";\n        element.integrity = \"sha384-\" + hashes[url];\n      }\n      console.debug(\"Bokeh: injecting script tag for BokehJS library: \", url);\n      document.head.appendChild(element);\n    }\n  };\n\n  function inject_raw_css(css) {\n    const element = document.createElement(\"style\");\n    element.appendChild(document.createTextNode(css));\n    document.body.appendChild(element);\n  }\n\n  \n  var js_urls = [\"https://cdn.bokeh.org/bokeh/release/bokeh-2.3.0.min.js\", \"https://cdn.bokeh.org/bokeh/release/bokeh-widgets-2.3.0.min.js\", \"https://cdn.bokeh.org/bokeh/release/bokeh-tables-2.3.0.min.js\"];\n  var css_urls = [];\n  \n\n  var inline_js = [\n    function(Bokeh) {\n      Bokeh.set_log_level(\"info\");\n    },\n    function(Bokeh) {\n    \n    \n    }\n  ];\n\n  function run_inline_js() {\n    \n    if (root.Bokeh !== undefined || force === true) {\n      \n    for (var i = 0; i < inline_js.length; i++) {\n      inline_js[i].call(root, root.Bokeh);\n    }\n    if (force === true) {\n        display_loaded();\n      }} else if (Date.now() < root._bokeh_timeout) {\n      setTimeout(run_inline_js, 100);\n    } else if (!root._bokeh_failed_load) {\n      console.log(\"Bokeh: BokehJS failed to load within specified timeout.\");\n      root._bokeh_failed_load = true;\n    } else if (force !== true) {\n      var cell = $(document.getElementById(\"1002\")).parents('.cell').data().cell;\n      cell.output_area.append_execute_result(NB_LOAD_WARNING)\n    }\n\n  }\n\n  if (root._bokeh_is_loading === 0) {\n    console.debug(\"Bokeh: BokehJS loaded, going straight to plotting\");\n    run_inline_js();\n  } else {\n    load_libs(css_urls, js_urls, function() {\n      console.debug(\"Bokeh: BokehJS plotting callback run at\", now());\n      run_inline_js();\n    });\n  }\n}(window));"
     },
     "metadata": {},
     "output_type": "display_data"
    }
   ],
   "source": [
    "import pandas_bokeh\n",
    "import numpy as np\n",
    "\n",
    "pandas_bokeh.output_notebook()\n"
   ]
  },
  {
   "cell_type": "code",
   "execution_count": 11,
   "id": "spatial-personal",
   "metadata": {},
   "outputs": [],
   "source": [
    "import pandas as pd \n",
    "import matplotlib.pyplot as plt\n",
    "fig = plt.figure()\n",
    "plt.rcParams.update({'font.size': 22})\n",
    "df = pd.DataFrame({\"Data science tool\": ['Python','SQL','R','C++','Java','C','JavaScript','MATLAB','Other','Bash'],\n",
    " \"% of respondents using the tool\" : [86.7,42.1,23.9,21.4,18.8,18.5,16.7,12.4,10.9,9.9]})\n",
    "ax = df.plot.barh(x=\"Data science tool\",y=\"% of respondents using the tool\" ,figsize=(10,5),fontsize=20)\n",
    "ax.invert_yaxis()\n",
    "fig.savefig('output.png')"
   ]
  },
  {
   "cell_type": "code",
   "execution_count": 27,
   "id": "wooden-tiger",
   "metadata": {},
   "outputs": [
    {
     "data": {
      "text/html": [
       "\n",
       "\n",
       "\n",
       "\n",
       "\n",
       "\n",
       "  <div class=\"bk-root\" id=\"07247788-bda6-4511-aae8-5a0b38731232\" data-root-id=\"1182\"></div>\n"
      ]
     },
     "metadata": {},
     "output_type": "display_data"
    },
    {
     "data": {
      "application/javascript": [
       "(function(root) {\n",
       "  function embed_document(root) {\n",
       "    \n",
       "  var docs_json = {\"86fcf422-69f2-452a-9dc9-7aaa32f741f9\":{\"defs\":[{\"extends\":null,\"module\":null,\"name\":\"DataModel\",\"overrides\":[],\"properties\":[]}],\"roots\":{\"references\":[{\"attributes\":{\"below\":[{\"id\":\"1193\"}],\"center\":[{\"id\":\"1196\"},{\"id\":\"1200\"},{\"id\":\"1232\"}],\"height\":400,\"left\":[{\"id\":\"1197\"}],\"output_backend\":\"webgl\",\"renderers\":[{\"id\":\"1221\"}],\"sizing_mode\":\"fixed\",\"title\":{\"id\":\"1183\"},\"toolbar\":{\"id\":\"1208\"},\"x_range\":{\"id\":\"1185\"},\"x_scale\":{\"id\":\"1189\"},\"y_range\":{\"id\":\"1187\"},\"y_scale\":{\"id\":\"1191\"}},\"id\":\"1182\",\"subtype\":\"Figure\",\"type\":\"Plot\"},{\"attributes\":{\"axis\":{\"id\":\"1193\"},\"ticker\":null},\"id\":\"1196\",\"type\":\"Grid\"},{\"attributes\":{\"label\":{\"value\":\" pct\"},\"renderers\":[{\"id\":\"1221\"}]},\"id\":\"1233\",\"type\":\"LegendItem\"},{\"attributes\":{\"click_policy\":\"hide\",\"items\":[{\"id\":\"1233\"}],\"visible\":false},\"id\":\"1232\",\"type\":\"Legend\"},{\"attributes\":{\"bottom_units\":\"screen\",\"fill_alpha\":0.5,\"fill_color\":\"lightgrey\",\"left_units\":\"screen\",\"level\":\"overlay\",\"line_alpha\":1.0,\"line_color\":\"black\",\"line_dash\":[4,4],\"line_width\":2,\"right_units\":\"screen\",\"syncable\":false,\"top_units\":\"screen\"},\"id\":\"1207\",\"type\":\"BoxAnnotation\"},{\"attributes\":{\"axis_label\":\"Data science tool\",\"formatter\":{\"id\":\"1215\"},\"major_label_policy\":{\"id\":\"1227\"},\"ticker\":{\"id\":\"1236\"}},\"id\":\"1193\",\"type\":\"LinearAxis\"},{\"attributes\":{\"code\":\"\\n                                    var labels = {0: 'Python', 1: 'SQL', 2: 'R', 3: 'C++', 4: 'Java', 5: 'C', 6: 'JavaScript', 7: 'MATLAB', 8: 'Other', 9: 'Bash'};\\n                                    return labels[tick];\\n                                    \"},\"id\":\"1215\",\"type\":\"FuncTickFormatter\"},{\"attributes\":{\"data\":{\"__x__values\":[0,1,2,3,4,5,6,7,8,9],\"__x__values_original\":[\"Python\",\"SQL\",\"R\",\"C++\",\"Java\",\"C\",\"JavaScript\",\"MATLAB\",\"Other\",\"Bash\"],\"pct\":{\"__ndarray__\":\"zczMzMysVUDNzMzMzAxFQGZmZmZm5jdAZmZmZmZmNUDNzMzMzMwyQAAAAAAAgDJAMzMzMzOzMEDNzMzMzMwoQM3MzMzMzCVAzczMzMzMI0A=\",\"dtype\":\"float64\",\"order\":\"little\",\"shape\":[10]}},\"selected\":{\"id\":\"1230\"},\"selection_policy\":{\"id\":\"1229\"}},\"id\":\"1181\",\"type\":\"ColumnDataSource\"},{\"attributes\":{},\"id\":\"1185\",\"type\":\"DataRange1d\"},{\"attributes\":{\"data_source\":{\"id\":\"1181\"},\"glyph\":{\"id\":\"1219\"},\"hover_glyph\":null,\"muted_glyph\":null,\"nonselection_glyph\":{\"id\":\"1220\"},\"view\":{\"id\":\"1222\"}},\"id\":\"1221\",\"type\":\"GlyphRenderer\"},{\"attributes\":{},\"id\":\"1202\",\"type\":\"WheelZoomTool\"},{\"attributes\":{\"callback\":null,\"mode\":\"vline\",\"renderers\":[{\"id\":\"1221\"}],\"tooltips\":[[\"Data science tool\",\"@__x__values_original\"],[\"pct\",\"@{pct}\"]]},\"id\":\"1234\",\"type\":\"HoverTool\"},{\"attributes\":{},\"id\":\"1189\",\"type\":\"LinearScale\"},{\"attributes\":{},\"id\":\"1229\",\"type\":\"UnionRenderers\"},{\"attributes\":{},\"id\":\"1224\",\"type\":\"AllLabels\"},{\"attributes\":{},\"id\":\"1230\",\"type\":\"Selection\"},{\"attributes\":{\"range\":{\"id\":\"1185\"}},\"id\":\"1217\",\"type\":\"Dodge\"},{\"attributes\":{},\"id\":\"1225\",\"type\":\"BasicTickFormatter\"},{\"attributes\":{\"overlay\":{\"id\":\"1207\"}},\"id\":\"1203\",\"type\":\"BoxZoomTool\"},{\"attributes\":{\"fill_alpha\":{\"value\":0.1},\"fill_color\":{\"value\":\"#1f77b4\"},\"line_alpha\":{\"value\":0.1},\"line_color\":{\"value\":\"#1f77b4\"},\"line_width\":{\"value\":2},\"top\":{\"field\":\"pct\"},\"width\":{\"value\":0.7},\"x\":{\"field\":\"__x__values\",\"transform\":{\"id\":\"1217\"}}},\"id\":\"1220\",\"type\":\"VBar\"},{\"attributes\":{},\"id\":\"1227\",\"type\":\"AllLabels\"},{\"attributes\":{},\"id\":\"1204\",\"type\":\"SaveTool\"},{\"attributes\":{\"text\":\"2020 Data Science and Machine Learning Survey\"},\"id\":\"1183\",\"type\":\"Title\"},{\"attributes\":{\"active_multi\":null,\"active_scroll\":{\"id\":\"1202\"},\"tools\":[{\"id\":\"1201\"},{\"id\":\"1202\"},{\"id\":\"1203\"},{\"id\":\"1204\"},{\"id\":\"1205\"},{\"id\":\"1206\"},{\"id\":\"1234\"}]},\"id\":\"1208\",\"type\":\"Toolbar\"},{\"attributes\":{},\"id\":\"1201\",\"type\":\"PanTool\"},{\"attributes\":{\"axis\":{\"id\":\"1197\"},\"dimension\":1,\"ticker\":null},\"id\":\"1200\",\"type\":\"Grid\"},{\"attributes\":{},\"id\":\"1206\",\"type\":\"HelpTool\"},{\"attributes\":{},\"id\":\"1205\",\"type\":\"ResetTool\"},{\"attributes\":{\"fill_color\":{\"value\":\"#1f77b4\"},\"line_color\":{\"value\":\"#1f77b4\"},\"line_width\":{\"value\":2},\"top\":{\"field\":\"pct\"},\"width\":{\"value\":0.7},\"x\":{\"field\":\"__x__values\",\"transform\":{\"id\":\"1217\"}}},\"id\":\"1219\",\"type\":\"VBar\"},{\"attributes\":{\"source\":{\"id\":\"1181\"}},\"id\":\"1222\",\"type\":\"CDSView\"},{\"attributes\":{},\"id\":\"1198\",\"type\":\"BasicTicker\"},{\"attributes\":{},\"id\":\"1187\",\"type\":\"DataRange1d\"},{\"attributes\":{\"axis_label\":\"% of respondents using the tool\",\"formatter\":{\"id\":\"1225\"},\"major_label_policy\":{\"id\":\"1224\"},\"ticker\":{\"id\":\"1198\"}},\"id\":\"1197\",\"type\":\"LinearAxis\"},{\"attributes\":{\"ticks\":[0,1,2,3,4,5,6,7,8,9]},\"id\":\"1236\",\"type\":\"FixedTicker\"},{\"attributes\":{},\"id\":\"1191\",\"type\":\"LinearScale\"}],\"root_ids\":[\"1182\"]},\"title\":\"Bokeh Application\",\"version\":\"2.3.0\"}};\n",
       "  var render_items = [{\"docid\":\"86fcf422-69f2-452a-9dc9-7aaa32f741f9\",\"root_ids\":[\"1182\"],\"roots\":{\"1182\":\"07247788-bda6-4511-aae8-5a0b38731232\"}}];\n",
       "  root.Bokeh.embed.embed_items_notebook(docs_json, render_items);\n",
       "\n",
       "  }\n",
       "  if (root.Bokeh !== undefined) {\n",
       "    embed_document(root);\n",
       "  } else {\n",
       "    var attempts = 0;\n",
       "    var timer = setInterval(function(root) {\n",
       "      if (root.Bokeh !== undefined) {\n",
       "        clearInterval(timer);\n",
       "        embed_document(root);\n",
       "      } else {\n",
       "        attempts++;\n",
       "        if (attempts > 100) {\n",
       "          clearInterval(timer);\n",
       "          console.log(\"Bokeh: ERROR: Unable to run BokehJS code because BokehJS library is missing\");\n",
       "        }\n",
       "      }\n",
       "    }, 10, root)\n",
       "  }\n",
       "})(window);"
      ],
      "application/vnd.bokehjs_exec.v0+json": ""
     },
     "metadata": {
      "application/vnd.bokehjs_exec.v0+json": {
       "id": "1182"
      }
     },
     "output_type": "display_data"
    },
    {
     "data": {
      "text/html": [
       "<div style=\"display: table;\"><div style=\"display: table-row;\"><div style=\"display: table-cell;\"><b title=\"bokeh.plotting.figure.Figure\">Figure</b>(</div><div style=\"display: table-cell;\">id&nbsp;=&nbsp;'1182', <span id=\"1295\" style=\"cursor: pointer;\">&hellip;)</span></div></div><div class=\"1294\" style=\"display: none;\"><div style=\"display: table-cell;\"></div><div style=\"display: table-cell;\">above&nbsp;=&nbsp;[],</div></div><div class=\"1294\" style=\"display: none;\"><div style=\"display: table-cell;\"></div><div style=\"display: table-cell;\">align&nbsp;=&nbsp;'start',</div></div><div class=\"1294\" style=\"display: none;\"><div style=\"display: table-cell;\"></div><div style=\"display: table-cell;\">aspect_ratio&nbsp;=&nbsp;None,</div></div><div class=\"1294\" style=\"display: none;\"><div style=\"display: table-cell;\"></div><div style=\"display: table-cell;\">aspect_scale&nbsp;=&nbsp;1,</div></div><div class=\"1294\" style=\"display: none;\"><div style=\"display: table-cell;\"></div><div style=\"display: table-cell;\">background&nbsp;=&nbsp;None,</div></div><div class=\"1294\" style=\"display: none;\"><div style=\"display: table-cell;\"></div><div style=\"display: table-cell;\">background_fill_alpha&nbsp;=&nbsp;1.0,</div></div><div class=\"1294\" style=\"display: none;\"><div style=\"display: table-cell;\"></div><div style=\"display: table-cell;\">background_fill_color&nbsp;=&nbsp;'#ffffff',</div></div><div class=\"1294\" style=\"display: none;\"><div style=\"display: table-cell;\"></div><div style=\"display: table-cell;\">below&nbsp;=&nbsp;[LinearAxis(id='1193', ...)],</div></div><div class=\"1294\" style=\"display: none;\"><div style=\"display: table-cell;\"></div><div style=\"display: table-cell;\">border_fill_alpha&nbsp;=&nbsp;1.0,</div></div><div class=\"1294\" style=\"display: none;\"><div style=\"display: table-cell;\"></div><div style=\"display: table-cell;\">border_fill_color&nbsp;=&nbsp;'#ffffff',</div></div><div class=\"1294\" style=\"display: none;\"><div style=\"display: table-cell;\"></div><div style=\"display: table-cell;\">center&nbsp;=&nbsp;[Grid(id='1196', ...), Grid(id='1200', ...), Legend(id='1232', ...)],</div></div><div class=\"1294\" style=\"display: none;\"><div style=\"display: table-cell;\"></div><div style=\"display: table-cell;\">css_classes&nbsp;=&nbsp;[],</div></div><div class=\"1294\" style=\"display: none;\"><div style=\"display: table-cell;\"></div><div style=\"display: table-cell;\">disabled&nbsp;=&nbsp;False,</div></div><div class=\"1294\" style=\"display: none;\"><div style=\"display: table-cell;\"></div><div style=\"display: table-cell;\">extra_x_ranges&nbsp;=&nbsp;{},</div></div><div class=\"1294\" style=\"display: none;\"><div style=\"display: table-cell;\"></div><div style=\"display: table-cell;\">extra_y_ranges&nbsp;=&nbsp;{},</div></div><div class=\"1294\" style=\"display: none;\"><div style=\"display: table-cell;\"></div><div style=\"display: table-cell;\">frame_height&nbsp;=&nbsp;None,</div></div><div class=\"1294\" style=\"display: none;\"><div style=\"display: table-cell;\"></div><div style=\"display: table-cell;\">frame_width&nbsp;=&nbsp;None,</div></div><div class=\"1294\" style=\"display: none;\"><div style=\"display: table-cell;\"></div><div style=\"display: table-cell;\">height&nbsp;=&nbsp;400,</div></div><div class=\"1294\" style=\"display: none;\"><div style=\"display: table-cell;\"></div><div style=\"display: table-cell;\">height_policy&nbsp;=&nbsp;'auto',</div></div><div class=\"1294\" style=\"display: none;\"><div style=\"display: table-cell;\"></div><div style=\"display: table-cell;\">hidpi&nbsp;=&nbsp;True,</div></div><div class=\"1294\" style=\"display: none;\"><div style=\"display: table-cell;\"></div><div style=\"display: table-cell;\">inner_height&nbsp;=&nbsp;0,</div></div><div class=\"1294\" style=\"display: none;\"><div style=\"display: table-cell;\"></div><div style=\"display: table-cell;\">inner_width&nbsp;=&nbsp;0,</div></div><div class=\"1294\" style=\"display: none;\"><div style=\"display: table-cell;\"></div><div style=\"display: table-cell;\">js_event_callbacks&nbsp;=&nbsp;{},</div></div><div class=\"1294\" style=\"display: none;\"><div style=\"display: table-cell;\"></div><div style=\"display: table-cell;\">js_property_callbacks&nbsp;=&nbsp;{},</div></div><div class=\"1294\" style=\"display: none;\"><div style=\"display: table-cell;\"></div><div style=\"display: table-cell;\">left&nbsp;=&nbsp;[LinearAxis(id='1197', ...)],</div></div><div class=\"1294\" style=\"display: none;\"><div style=\"display: table-cell;\"></div><div style=\"display: table-cell;\">lod_factor&nbsp;=&nbsp;10,</div></div><div class=\"1294\" style=\"display: none;\"><div style=\"display: table-cell;\"></div><div style=\"display: table-cell;\">lod_interval&nbsp;=&nbsp;300,</div></div><div class=\"1294\" style=\"display: none;\"><div style=\"display: table-cell;\"></div><div style=\"display: table-cell;\">lod_threshold&nbsp;=&nbsp;2000,</div></div><div class=\"1294\" style=\"display: none;\"><div style=\"display: table-cell;\"></div><div style=\"display: table-cell;\">lod_timeout&nbsp;=&nbsp;500,</div></div><div class=\"1294\" style=\"display: none;\"><div style=\"display: table-cell;\"></div><div style=\"display: table-cell;\">margin&nbsp;=&nbsp;(0, 0, 0, 0),</div></div><div class=\"1294\" style=\"display: none;\"><div style=\"display: table-cell;\"></div><div style=\"display: table-cell;\">match_aspect&nbsp;=&nbsp;False,</div></div><div class=\"1294\" style=\"display: none;\"><div style=\"display: table-cell;\"></div><div style=\"display: table-cell;\">max_height&nbsp;=&nbsp;None,</div></div><div class=\"1294\" style=\"display: none;\"><div style=\"display: table-cell;\"></div><div style=\"display: table-cell;\">max_width&nbsp;=&nbsp;None,</div></div><div class=\"1294\" style=\"display: none;\"><div style=\"display: table-cell;\"></div><div style=\"display: table-cell;\">min_border&nbsp;=&nbsp;5,</div></div><div class=\"1294\" style=\"display: none;\"><div style=\"display: table-cell;\"></div><div style=\"display: table-cell;\">min_border_bottom&nbsp;=&nbsp;None,</div></div><div class=\"1294\" style=\"display: none;\"><div style=\"display: table-cell;\"></div><div style=\"display: table-cell;\">min_border_left&nbsp;=&nbsp;None,</div></div><div class=\"1294\" style=\"display: none;\"><div style=\"display: table-cell;\"></div><div style=\"display: table-cell;\">min_border_right&nbsp;=&nbsp;None,</div></div><div class=\"1294\" style=\"display: none;\"><div style=\"display: table-cell;\"></div><div style=\"display: table-cell;\">min_border_top&nbsp;=&nbsp;None,</div></div><div class=\"1294\" style=\"display: none;\"><div style=\"display: table-cell;\"></div><div style=\"display: table-cell;\">min_height&nbsp;=&nbsp;None,</div></div><div class=\"1294\" style=\"display: none;\"><div style=\"display: table-cell;\"></div><div style=\"display: table-cell;\">min_width&nbsp;=&nbsp;None,</div></div><div class=\"1294\" style=\"display: none;\"><div style=\"display: table-cell;\"></div><div style=\"display: table-cell;\">name&nbsp;=&nbsp;None,</div></div><div class=\"1294\" style=\"display: none;\"><div style=\"display: table-cell;\"></div><div style=\"display: table-cell;\">outer_height&nbsp;=&nbsp;0,</div></div><div class=\"1294\" style=\"display: none;\"><div style=\"display: table-cell;\"></div><div style=\"display: table-cell;\">outer_width&nbsp;=&nbsp;0,</div></div><div class=\"1294\" style=\"display: none;\"><div style=\"display: table-cell;\"></div><div style=\"display: table-cell;\">outline_line_alpha&nbsp;=&nbsp;1.0,</div></div><div class=\"1294\" style=\"display: none;\"><div style=\"display: table-cell;\"></div><div style=\"display: table-cell;\">outline_line_cap&nbsp;=&nbsp;'butt',</div></div><div class=\"1294\" style=\"display: none;\"><div style=\"display: table-cell;\"></div><div style=\"display: table-cell;\">outline_line_color&nbsp;=&nbsp;'#e5e5e5',</div></div><div class=\"1294\" style=\"display: none;\"><div style=\"display: table-cell;\"></div><div style=\"display: table-cell;\">outline_line_dash&nbsp;=&nbsp;[],</div></div><div class=\"1294\" style=\"display: none;\"><div style=\"display: table-cell;\"></div><div style=\"display: table-cell;\">outline_line_dash_offset&nbsp;=&nbsp;0,</div></div><div class=\"1294\" style=\"display: none;\"><div style=\"display: table-cell;\"></div><div style=\"display: table-cell;\">outline_line_join&nbsp;=&nbsp;'bevel',</div></div><div class=\"1294\" style=\"display: none;\"><div style=\"display: table-cell;\"></div><div style=\"display: table-cell;\">outline_line_width&nbsp;=&nbsp;1,</div></div><div class=\"1294\" style=\"display: none;\"><div style=\"display: table-cell;\"></div><div style=\"display: table-cell;\">output_backend&nbsp;=&nbsp;'webgl',</div></div><div class=\"1294\" style=\"display: none;\"><div style=\"display: table-cell;\"></div><div style=\"display: table-cell;\">renderers&nbsp;=&nbsp;[GlyphRenderer(id='1221', ...)],</div></div><div class=\"1294\" style=\"display: none;\"><div style=\"display: table-cell;\"></div><div style=\"display: table-cell;\">reset_policy&nbsp;=&nbsp;'standard',</div></div><div class=\"1294\" style=\"display: none;\"><div style=\"display: table-cell;\"></div><div style=\"display: table-cell;\">right&nbsp;=&nbsp;[],</div></div><div class=\"1294\" style=\"display: none;\"><div style=\"display: table-cell;\"></div><div style=\"display: table-cell;\">sizing_mode&nbsp;=&nbsp;'fixed',</div></div><div class=\"1294\" style=\"display: none;\"><div style=\"display: table-cell;\"></div><div style=\"display: table-cell;\">subscribed_events&nbsp;=&nbsp;[],</div></div><div class=\"1294\" style=\"display: none;\"><div style=\"display: table-cell;\"></div><div style=\"display: table-cell;\">syncable&nbsp;=&nbsp;True,</div></div><div class=\"1294\" style=\"display: none;\"><div style=\"display: table-cell;\"></div><div style=\"display: table-cell;\">tags&nbsp;=&nbsp;[],</div></div><div class=\"1294\" style=\"display: none;\"><div style=\"display: table-cell;\"></div><div style=\"display: table-cell;\">title&nbsp;=&nbsp;Title(id='1183', ...),</div></div><div class=\"1294\" style=\"display: none;\"><div style=\"display: table-cell;\"></div><div style=\"display: table-cell;\">title_location&nbsp;=&nbsp;'above',</div></div><div class=\"1294\" style=\"display: none;\"><div style=\"display: table-cell;\"></div><div style=\"display: table-cell;\">toolbar&nbsp;=&nbsp;Toolbar(id='1208', ...),</div></div><div class=\"1294\" style=\"display: none;\"><div style=\"display: table-cell;\"></div><div style=\"display: table-cell;\">toolbar_location&nbsp;=&nbsp;'right',</div></div><div class=\"1294\" style=\"display: none;\"><div style=\"display: table-cell;\"></div><div style=\"display: table-cell;\">toolbar_sticky&nbsp;=&nbsp;True,</div></div><div class=\"1294\" style=\"display: none;\"><div style=\"display: table-cell;\"></div><div style=\"display: table-cell;\">visible&nbsp;=&nbsp;True,</div></div><div class=\"1294\" style=\"display: none;\"><div style=\"display: table-cell;\"></div><div style=\"display: table-cell;\">width&nbsp;=&nbsp;600,</div></div><div class=\"1294\" style=\"display: none;\"><div style=\"display: table-cell;\"></div><div style=\"display: table-cell;\">width_policy&nbsp;=&nbsp;'auto',</div></div><div class=\"1294\" style=\"display: none;\"><div style=\"display: table-cell;\"></div><div style=\"display: table-cell;\">x_range&nbsp;=&nbsp;DataRange1d(id='1185', ...),</div></div><div class=\"1294\" style=\"display: none;\"><div style=\"display: table-cell;\"></div><div style=\"display: table-cell;\">x_scale&nbsp;=&nbsp;LinearScale(id='1189', ...),</div></div><div class=\"1294\" style=\"display: none;\"><div style=\"display: table-cell;\"></div><div style=\"display: table-cell;\">y_range&nbsp;=&nbsp;DataRange1d(id='1187', ...),</div></div><div class=\"1294\" style=\"display: none;\"><div style=\"display: table-cell;\"></div><div style=\"display: table-cell;\">y_scale&nbsp;=&nbsp;LinearScale(id='1191', ...))</div></div></div>\n",
       "<script>\n",
       "(function() {\n",
       "  var expanded = false;\n",
       "  var ellipsis = document.getElementById(\"1295\");\n",
       "  ellipsis.addEventListener(\"click\", function() {\n",
       "    var rows = document.getElementsByClassName(\"1294\");\n",
       "    for (var i = 0; i < rows.length; i++) {\n",
       "      var el = rows[i];\n",
       "      el.style.display = expanded ? \"none\" : \"table-row\";\n",
       "    }\n",
       "    ellipsis.innerHTML = expanded ? \"&hellip;)\" : \"&lsaquo;&lsaquo;&lsaquo;\";\n",
       "    expanded = !expanded;\n",
       "  });\n",
       "})();\n",
       "</script>\n"
      ],
      "text/plain": [
       "Figure(id='1182', ...)"
      ]
     },
     "execution_count": 27,
     "metadata": {},
     "output_type": "execute_result"
    }
   ],
   "source": [
    "df = pd.DataFrame({\"Tool\": ['Python','SQL','R','C++','Java','C','JavaScript','MATLAB','Other','Bash'],\n",
    " \"pct\" : [86.7,42.1,23.9,21.4,18.8,18.5,16.7,12.4,10.9,9.9]})\n",
    "df.plot_bokeh(\n",
    "    kind='bar',\n",
    "    x='Tool',\n",
    "    y='pct', \n",
    "    xlabel='Data science tool',\n",
    "    ylabel='% of respondents using the tool',\n",
    "    title='2020 Data Science and Machine Learning Survey',\n",
    "    legend=False\n",
    ")"
   ]
  },
  {
   "cell_type": "markdown",
   "id": "decimal-beaver",
   "metadata": {},
   "source": [
    "\"Taken from the Kaggle data science community “2020 Data Science and Machine Learning Survey“."
   ]
  },
  {
   "cell_type": "markdown",
   "id": "twenty-craps",
   "metadata": {},
   "source": [
    "# Some basic recommendations\n",
    "\n",
    "- Python projects can require complex development or implementation; in those cases, it is recommended to use some integrated development environment (IDE), for example, PyCharm. \n",
    "- While the use of IDE is not discouraged, I feel that it isn't necessary for applied Data Science projects (as opposed to algorithm development, for example). \n",
    "- Moreover, to strengthen the encoding of the language syntax, I recommend at the beginning to force yourself to use Jupyter lab or notebook interface only.\n",
    "- However, my current favourite tool is visual studio code, which has a nice Python and Jupyter built-in support."
   ]
  },
  {
   "cell_type": "markdown",
   "id": "effective-silver",
   "metadata": {},
   "source": [
    "# Module Recommendation\n",
    "\n",
    "- This course's main objective is to familiarize you with the use of this framework  and Python, making the writing process intuitive.\n",
    "- All slides you will see were created using Jupyter, and all code snippets can be copied and pasted into your notebook.\n",
    "- I urge you, however, to avoid doing so.\n",
    "- Instead, write down the commands in your notebook and try to add your own comments.\n",
    "- Keep in mind that you are doing this for future you, who in six months will want to know how to do something trivial, and having it in one (or more) notebooks that you have created will be worthwhile "
   ]
  },
  {
   "cell_type": "markdown",
   "id": "applicable-enemy",
   "metadata": {},
   "source": [
    "# What this module will cover\n",
    "- This module is composed of several sections going over Python essentials such as: \n",
    "    1. Python Basics (e.g. Syntax Essentials, Keywords, Variables, Data Types, Comments and Operators)\n",
    "    1. Python Data Structures (e.g. Lists, Tuples, Dictionaries and Sets)\n",
    "    1. Python Programming Fundamentals (Conditions, Loops and Functions)\n",
    "- The goal is to quickly give you a cheat sheet to start using Python as a data scientist."
   ]
  },
  {
   "cell_type": "code",
   "execution_count": 12,
   "id": "dense-queen",
   "metadata": {},
   "outputs": [],
   "source": [
    "df = pd.read_csv('Please_tell_us_about_your_level_of_knowledge_.csv')"
   ]
  },
  {
   "cell_type": "code",
   "execution_count": 20,
   "id": "starting-metropolitan",
   "metadata": {},
   "outputs": [
    {
     "data": {
      "text/html": [
       "<div>\n",
       "<style scoped>\n",
       "    .dataframe tbody tr th:only-of-type {\n",
       "        vertical-align: middle;\n",
       "    }\n",
       "\n",
       "    .dataframe tbody tr th {\n",
       "        vertical-align: top;\n",
       "    }\n",
       "\n",
       "    .dataframe thead th {\n",
       "        text-align: right;\n",
       "    }\n",
       "</style>\n",
       "<table border=\"1\" class=\"dataframe\">\n",
       "  <thead>\n",
       "    <tr style=\"text-align: right;\">\n",
       "      <th></th>\n",
       "      <th>0</th>\n",
       "      <th>1</th>\n",
       "      <th>2</th>\n",
       "      <th>3</th>\n",
       "      <th>4</th>\n",
       "      <th>5</th>\n",
       "      <th>6</th>\n",
       "      <th>7</th>\n",
       "      <th>8</th>\n",
       "      <th>9</th>\n",
       "      <th>10</th>\n",
       "      <th>11</th>\n",
       "      <th>12</th>\n",
       "      <th>13</th>\n",
       "      <th>14</th>\n",
       "      <th>15</th>\n",
       "      <th>16</th>\n",
       "    </tr>\n",
       "  </thead>\n",
       "  <tbody>\n",
       "    <tr>\n",
       "      <th>Response</th>\n",
       "      <td>259</td>\n",
       "      <td>256</td>\n",
       "      <td>253</td>\n",
       "      <td>257</td>\n",
       "      <td>251</td>\n",
       "      <td>260</td>\n",
       "      <td>254</td>\n",
       "      <td>250</td>\n",
       "      <td>261</td>\n",
       "      <td>248</td>\n",
       "      <td>258</td>\n",
       "      <td>249</td>\n",
       "      <td>255</td>\n",
       "      <td>252</td>\n",
       "      <td>246</td>\n",
       "      <td>247</td>\n",
       "      <td>Averages (where applicable):</td>\n",
       "    </tr>\n",
       "    <tr>\n",
       "      <th>Submitted on:</th>\n",
       "      <td>18/05/2021 11:00:11</td>\n",
       "      <td>18/05/2021 02:48:36</td>\n",
       "      <td>17/05/2021 18:46:57</td>\n",
       "      <td>18/05/2021 09:13:24</td>\n",
       "      <td>17/05/2021 17:01:30</td>\n",
       "      <td>18/05/2021 14:24:04</td>\n",
       "      <td>17/05/2021 21:33:14</td>\n",
       "      <td>17/05/2021 16:50:51</td>\n",
       "      <td>18/05/2021 20:55:33</td>\n",
       "      <td>17/05/2021 15:36:03</td>\n",
       "      <td>18/05/2021 10:11:47</td>\n",
       "      <td>17/05/2021 15:49:45</td>\n",
       "      <td>17/05/2021 21:51:52</td>\n",
       "      <td>17/05/2021 18:11:59</td>\n",
       "      <td>17/05/2021 14:57:30</td>\n",
       "      <td>17/05/2021 15:16:18</td>\n",
       "      <td>NaN</td>\n",
       "    </tr>\n",
       "    <tr>\n",
       "      <th>Institution</th>\n",
       "      <td>NaN</td>\n",
       "      <td>NaN</td>\n",
       "      <td>NaN</td>\n",
       "      <td>NaN</td>\n",
       "      <td>NaN</td>\n",
       "      <td>NaN</td>\n",
       "      <td>NaN</td>\n",
       "      <td>NaN</td>\n",
       "      <td>NaN</td>\n",
       "      <td>NaN</td>\n",
       "      <td>NaN</td>\n",
       "      <td>NaN</td>\n",
       "      <td>NaN</td>\n",
       "      <td>NaN</td>\n",
       "      <td>NaN</td>\n",
       "      <td>NaN</td>\n",
       "      <td>NaN</td>\n",
       "    </tr>\n",
       "    <tr>\n",
       "      <th>Department</th>\n",
       "      <td>NaN</td>\n",
       "      <td>NaN</td>\n",
       "      <td>NaN</td>\n",
       "      <td>NaN</td>\n",
       "      <td>NaN</td>\n",
       "      <td>NaN</td>\n",
       "      <td>NaN</td>\n",
       "      <td>NaN</td>\n",
       "      <td>NaN</td>\n",
       "      <td>NaN</td>\n",
       "      <td>NaN</td>\n",
       "      <td>NaN</td>\n",
       "      <td>NaN</td>\n",
       "      <td>NaN</td>\n",
       "      <td>NaN</td>\n",
       "      <td>NaN</td>\n",
       "      <td>NaN</td>\n",
       "    </tr>\n",
       "    <tr>\n",
       "      <th>Course</th>\n",
       "      <td>Artificial Intelligence and Intelligent Systems</td>\n",
       "      <td>Artificial Intelligence and Intelligent Systems</td>\n",
       "      <td>Artificial Intelligence and Intelligent Systems</td>\n",
       "      <td>Artificial Intelligence and Intelligent Systems</td>\n",
       "      <td>Artificial Intelligence and Intelligent Systems</td>\n",
       "      <td>Artificial Intelligence and Intelligent Systems</td>\n",
       "      <td>Artificial Intelligence and Intelligent Systems</td>\n",
       "      <td>Artificial Intelligence and Intelligent Systems</td>\n",
       "      <td>Artificial Intelligence and Intelligent Systems</td>\n",
       "      <td>Artificial Intelligence and Intelligent Systems</td>\n",
       "      <td>Artificial Intelligence and Intelligent Systems</td>\n",
       "      <td>Artificial Intelligence and Intelligent Systems</td>\n",
       "      <td>Artificial Intelligence and Intelligent Systems</td>\n",
       "      <td>Artificial Intelligence and Intelligent Systems</td>\n",
       "      <td>Artificial Intelligence and Intelligent Systems</td>\n",
       "      <td>Artificial Intelligence and Intelligent Systems</td>\n",
       "      <td>NaN</td>\n",
       "    </tr>\n",
       "    <tr>\n",
       "      <th>Group</th>\n",
       "      <td>NaN</td>\n",
       "      <td>NaN</td>\n",
       "      <td>NaN</td>\n",
       "      <td>NaN</td>\n",
       "      <td>NaN</td>\n",
       "      <td>NaN</td>\n",
       "      <td>NaN</td>\n",
       "      <td>NaN</td>\n",
       "      <td>NaN</td>\n",
       "      <td>NaN</td>\n",
       "      <td>NaN</td>\n",
       "      <td>NaN</td>\n",
       "      <td>NaN</td>\n",
       "      <td>NaN</td>\n",
       "      <td>NaN</td>\n",
       "      <td>NaN</td>\n",
       "      <td>NaN</td>\n",
       "    </tr>\n",
       "    <tr>\n",
       "      <th>ID</th>\n",
       "      <td>361.0</td>\n",
       "      <td>362.0</td>\n",
       "      <td>363.0</td>\n",
       "      <td>364.0</td>\n",
       "      <td>365.0</td>\n",
       "      <td>366.0</td>\n",
       "      <td>367.0</td>\n",
       "      <td>368.0</td>\n",
       "      <td>369.0</td>\n",
       "      <td>370.0</td>\n",
       "      <td>371.0</td>\n",
       "      <td>372.0</td>\n",
       "      <td>373.0</td>\n",
       "      <td>374.0</td>\n",
       "      <td>376.0</td>\n",
       "      <td>377.0</td>\n",
       "      <td>NaN</td>\n",
       "    </tr>\n",
       "    <tr>\n",
       "      <th>Full name</th>\n",
       "      <td>Clara Bersch</td>\n",
       "      <td>Ofure Okoh</td>\n",
       "      <td>Fabian Marvin Renz</td>\n",
       "      <td>Giacomo Bignardi</td>\n",
       "      <td>Janis Keck</td>\n",
       "      <td>Jennifer Sander</td>\n",
       "      <td>Johannes Julius Mohn</td>\n",
       "      <td>John Tuff</td>\n",
       "      <td>Jonas Karolis Degutis</td>\n",
       "      <td>Maria Azanova</td>\n",
       "      <td>Maria Badanova</td>\n",
       "      <td>Meike Hettwer</td>\n",
       "      <td>Muhammad Hashim Satti</td>\n",
       "      <td>Robert Scholz</td>\n",
       "      <td>Susanne Haridi</td>\n",
       "      <td>Tamer Ajaj</td>\n",
       "      <td>NaN</td>\n",
       "    </tr>\n",
       "    <tr>\n",
       "      <th>Username</th>\n",
       "      <td>clara_bersch</td>\n",
       "      <td>ofure_okoh</td>\n",
       "      <td>fabian_renz</td>\n",
       "      <td>giacomo_bignardi</td>\n",
       "      <td>janis_keck</td>\n",
       "      <td>jennifer_sander</td>\n",
       "      <td>johannes_mohn</td>\n",
       "      <td>john_tuff</td>\n",
       "      <td>jonas_degutis</td>\n",
       "      <td>maria_azanova</td>\n",
       "      <td>maria_badanova</td>\n",
       "      <td>meike_hettwer</td>\n",
       "      <td>hashim_satti</td>\n",
       "      <td>robert_scholz</td>\n",
       "      <td>susanne_haridi</td>\n",
       "      <td>tamer_ajaj</td>\n",
       "      <td>NaN</td>\n",
       "    </tr>\n",
       "    <tr>\n",
       "      <th>Complete</th>\n",
       "      <td>y</td>\n",
       "      <td>y</td>\n",
       "      <td>y</td>\n",
       "      <td>y</td>\n",
       "      <td>y</td>\n",
       "      <td>y</td>\n",
       "      <td>y</td>\n",
       "      <td>y</td>\n",
       "      <td>y</td>\n",
       "      <td>y</td>\n",
       "      <td>y</td>\n",
       "      <td>y</td>\n",
       "      <td>y</td>\n",
       "      <td>y</td>\n",
       "      <td>y</td>\n",
       "      <td>y</td>\n",
       "      <td>NaN</td>\n",
       "    </tr>\n",
       "    <tr>\n",
       "      <th>Q01_Q1: Software Proficiency-&gt;Never used it</th>\n",
       "      <td>0.0</td>\n",
       "      <td>0.0</td>\n",
       "      <td>0.0</td>\n",
       "      <td>0.0</td>\n",
       "      <td>0.0</td>\n",
       "      <td>0.0</td>\n",
       "      <td>0.0</td>\n",
       "      <td>0.0</td>\n",
       "      <td>0.0</td>\n",
       "      <td>0.0</td>\n",
       "      <td>0.0</td>\n",
       "      <td>0.0</td>\n",
       "      <td>0.0</td>\n",
       "      <td>0.0</td>\n",
       "      <td>0.0</td>\n",
       "      <td>0.0</td>\n",
       "      <td>NaN</td>\n",
       "    </tr>\n",
       "  </tbody>\n",
       "</table>\n",
       "</div>"
      ],
      "text/plain": [
       "                                                                                          0   \\\n",
       "Response                                                                                 259   \n",
       "Submitted on:                                                            18/05/2021 11:00:11   \n",
       "Institution                                                                              NaN   \n",
       "Department                                                                               NaN   \n",
       "Course                                       Artificial Intelligence and Intelligent Systems   \n",
       "Group                                                                                    NaN   \n",
       "ID                                                                                     361.0   \n",
       "Full name                                                                       Clara Bersch   \n",
       "Username                                                                        clara_bersch   \n",
       "Complete                                                                                   y   \n",
       "Q01_Q1: Software Proficiency->Never used it                                              0.0   \n",
       "\n",
       "                                                                                          1   \\\n",
       "Response                                                                                 256   \n",
       "Submitted on:                                                            18/05/2021 02:48:36   \n",
       "Institution                                                                              NaN   \n",
       "Department                                                                               NaN   \n",
       "Course                                       Artificial Intelligence and Intelligent Systems   \n",
       "Group                                                                                    NaN   \n",
       "ID                                                                                     362.0   \n",
       "Full name                                                                         Ofure Okoh   \n",
       "Username                                                                          ofure_okoh   \n",
       "Complete                                                                                   y   \n",
       "Q01_Q1: Software Proficiency->Never used it                                              0.0   \n",
       "\n",
       "                                                                                          2   \\\n",
       "Response                                                                                 253   \n",
       "Submitted on:                                                            17/05/2021 18:46:57   \n",
       "Institution                                                                              NaN   \n",
       "Department                                                                               NaN   \n",
       "Course                                       Artificial Intelligence and Intelligent Systems   \n",
       "Group                                                                                    NaN   \n",
       "ID                                                                                     363.0   \n",
       "Full name                                                                 Fabian Marvin Renz   \n",
       "Username                                                                         fabian_renz   \n",
       "Complete                                                                                   y   \n",
       "Q01_Q1: Software Proficiency->Never used it                                              0.0   \n",
       "\n",
       "                                                                                          3   \\\n",
       "Response                                                                                 257   \n",
       "Submitted on:                                                            18/05/2021 09:13:24   \n",
       "Institution                                                                              NaN   \n",
       "Department                                                                               NaN   \n",
       "Course                                       Artificial Intelligence and Intelligent Systems   \n",
       "Group                                                                                    NaN   \n",
       "ID                                                                                     364.0   \n",
       "Full name                                                                   Giacomo Bignardi   \n",
       "Username                                                                    giacomo_bignardi   \n",
       "Complete                                                                                   y   \n",
       "Q01_Q1: Software Proficiency->Never used it                                              0.0   \n",
       "\n",
       "                                                                                          4   \\\n",
       "Response                                                                                 251   \n",
       "Submitted on:                                                            17/05/2021 17:01:30   \n",
       "Institution                                                                              NaN   \n",
       "Department                                                                               NaN   \n",
       "Course                                       Artificial Intelligence and Intelligent Systems   \n",
       "Group                                                                                    NaN   \n",
       "ID                                                                                     365.0   \n",
       "Full name                                                                         Janis Keck   \n",
       "Username                                                                          janis_keck   \n",
       "Complete                                                                                   y   \n",
       "Q01_Q1: Software Proficiency->Never used it                                              0.0   \n",
       "\n",
       "                                                                                          5   \\\n",
       "Response                                                                                 260   \n",
       "Submitted on:                                                            18/05/2021 14:24:04   \n",
       "Institution                                                                              NaN   \n",
       "Department                                                                               NaN   \n",
       "Course                                       Artificial Intelligence and Intelligent Systems   \n",
       "Group                                                                                    NaN   \n",
       "ID                                                                                     366.0   \n",
       "Full name                                                                    Jennifer Sander   \n",
       "Username                                                                     jennifer_sander   \n",
       "Complete                                                                                   y   \n",
       "Q01_Q1: Software Proficiency->Never used it                                              0.0   \n",
       "\n",
       "                                                                                          6   \\\n",
       "Response                                                                                 254   \n",
       "Submitted on:                                                            17/05/2021 21:33:14   \n",
       "Institution                                                                              NaN   \n",
       "Department                                                                               NaN   \n",
       "Course                                       Artificial Intelligence and Intelligent Systems   \n",
       "Group                                                                                    NaN   \n",
       "ID                                                                                     367.0   \n",
       "Full name                                                               Johannes Julius Mohn   \n",
       "Username                                                                       johannes_mohn   \n",
       "Complete                                                                                   y   \n",
       "Q01_Q1: Software Proficiency->Never used it                                              0.0   \n",
       "\n",
       "                                                                                          7   \\\n",
       "Response                                                                                 250   \n",
       "Submitted on:                                                            17/05/2021 16:50:51   \n",
       "Institution                                                                              NaN   \n",
       "Department                                                                               NaN   \n",
       "Course                                       Artificial Intelligence and Intelligent Systems   \n",
       "Group                                                                                    NaN   \n",
       "ID                                                                                     368.0   \n",
       "Full name                                                                          John Tuff   \n",
       "Username                                                                           john_tuff   \n",
       "Complete                                                                                   y   \n",
       "Q01_Q1: Software Proficiency->Never used it                                              0.0   \n",
       "\n",
       "                                                                                          8   \\\n",
       "Response                                                                                 261   \n",
       "Submitted on:                                                            18/05/2021 20:55:33   \n",
       "Institution                                                                              NaN   \n",
       "Department                                                                               NaN   \n",
       "Course                                       Artificial Intelligence and Intelligent Systems   \n",
       "Group                                                                                    NaN   \n",
       "ID                                                                                     369.0   \n",
       "Full name                                                              Jonas Karolis Degutis   \n",
       "Username                                                                       jonas_degutis   \n",
       "Complete                                                                                   y   \n",
       "Q01_Q1: Software Proficiency->Never used it                                              0.0   \n",
       "\n",
       "                                                                                          9   \\\n",
       "Response                                                                                 248   \n",
       "Submitted on:                                                            17/05/2021 15:36:03   \n",
       "Institution                                                                              NaN   \n",
       "Department                                                                               NaN   \n",
       "Course                                       Artificial Intelligence and Intelligent Systems   \n",
       "Group                                                                                    NaN   \n",
       "ID                                                                                     370.0   \n",
       "Full name                                                                      Maria Azanova   \n",
       "Username                                                                       maria_azanova   \n",
       "Complete                                                                                   y   \n",
       "Q01_Q1: Software Proficiency->Never used it                                              0.0   \n",
       "\n",
       "                                                                                          10  \\\n",
       "Response                                                                                 258   \n",
       "Submitted on:                                                            18/05/2021 10:11:47   \n",
       "Institution                                                                              NaN   \n",
       "Department                                                                               NaN   \n",
       "Course                                       Artificial Intelligence and Intelligent Systems   \n",
       "Group                                                                                    NaN   \n",
       "ID                                                                                     371.0   \n",
       "Full name                                                                     Maria Badanova   \n",
       "Username                                                                      maria_badanova   \n",
       "Complete                                                                                   y   \n",
       "Q01_Q1: Software Proficiency->Never used it                                              0.0   \n",
       "\n",
       "                                                                                          11  \\\n",
       "Response                                                                                 249   \n",
       "Submitted on:                                                            17/05/2021 15:49:45   \n",
       "Institution                                                                              NaN   \n",
       "Department                                                                               NaN   \n",
       "Course                                       Artificial Intelligence and Intelligent Systems   \n",
       "Group                                                                                    NaN   \n",
       "ID                                                                                     372.0   \n",
       "Full name                                                                      Meike Hettwer   \n",
       "Username                                                                       meike_hettwer   \n",
       "Complete                                                                                   y   \n",
       "Q01_Q1: Software Proficiency->Never used it                                              0.0   \n",
       "\n",
       "                                                                                          12  \\\n",
       "Response                                                                                 255   \n",
       "Submitted on:                                                            17/05/2021 21:51:52   \n",
       "Institution                                                                              NaN   \n",
       "Department                                                                               NaN   \n",
       "Course                                       Artificial Intelligence and Intelligent Systems   \n",
       "Group                                                                                    NaN   \n",
       "ID                                                                                     373.0   \n",
       "Full name                                                              Muhammad Hashim Satti   \n",
       "Username                                                                        hashim_satti   \n",
       "Complete                                                                                   y   \n",
       "Q01_Q1: Software Proficiency->Never used it                                              0.0   \n",
       "\n",
       "                                                                                          13  \\\n",
       "Response                                                                                 252   \n",
       "Submitted on:                                                            17/05/2021 18:11:59   \n",
       "Institution                                                                              NaN   \n",
       "Department                                                                               NaN   \n",
       "Course                                       Artificial Intelligence and Intelligent Systems   \n",
       "Group                                                                                    NaN   \n",
       "ID                                                                                     374.0   \n",
       "Full name                                                                      Robert Scholz   \n",
       "Username                                                                       robert_scholz   \n",
       "Complete                                                                                   y   \n",
       "Q01_Q1: Software Proficiency->Never used it                                              0.0   \n",
       "\n",
       "                                                                                          14  \\\n",
       "Response                                                                                 246   \n",
       "Submitted on:                                                            17/05/2021 14:57:30   \n",
       "Institution                                                                              NaN   \n",
       "Department                                                                               NaN   \n",
       "Course                                       Artificial Intelligence and Intelligent Systems   \n",
       "Group                                                                                    NaN   \n",
       "ID                                                                                     376.0   \n",
       "Full name                                                                     Susanne Haridi   \n",
       "Username                                                                      susanne_haridi   \n",
       "Complete                                                                                   y   \n",
       "Q01_Q1: Software Proficiency->Never used it                                              0.0   \n",
       "\n",
       "                                                                                          15  \\\n",
       "Response                                                                                 247   \n",
       "Submitted on:                                                            17/05/2021 15:16:18   \n",
       "Institution                                                                              NaN   \n",
       "Department                                                                               NaN   \n",
       "Course                                       Artificial Intelligence and Intelligent Systems   \n",
       "Group                                                                                    NaN   \n",
       "ID                                                                                     377.0   \n",
       "Full name                                                                         Tamer Ajaj   \n",
       "Username                                                                          tamer_ajaj   \n",
       "Complete                                                                                   y   \n",
       "Q01_Q1: Software Proficiency->Never used it                                              0.0   \n",
       "\n",
       "                                                                       16  \n",
       "Response                                     Averages (where applicable):  \n",
       "Submitted on:                                                         NaN  \n",
       "Institution                                                           NaN  \n",
       "Department                                                            NaN  \n",
       "Course                                                                NaN  \n",
       "Group                                                                 NaN  \n",
       "ID                                                                    NaN  \n",
       "Full name                                                             NaN  \n",
       "Username                                                              NaN  \n",
       "Complete                                                              NaN  \n",
       "Q01_Q1: Software Proficiency->Never used it                           NaN  "
      ]
     },
     "execution_count": 20,
     "metadata": {},
     "output_type": "execute_result"
    }
   ],
   "source": [
    "df.T.head(11)"
   ]
  },
  {
   "cell_type": "markdown",
   "id": "female-romania",
   "metadata": {},
   "source": [
    "## Links to expand your understanding \n",
    "\n",
    "For those interested in learning more...\n",
    "\n",
    "- [Conda Essentials](https://learn.datacamp.com/courses/conda-essentials)\n",
    "- [Building and Distributing Packages with Conda](https://learn.datacamp.com/courses/building-and-distributing-packages-with-conda)\n",
    "- [Some background on ipython and jupyter](https://www.datacamp.com/community/blog/ipython-jupyter)\n",
    "- [Jupyter Notebook Tutorial: The Definitive Guide](https://www.datacamp.com/community/tutorials/tutorial-jupyter-notebook)\n",
    "\n",
    "\n",
    "{% include links.md %}"
   ]
  },
  {
   "cell_type": "code",
   "execution_count": 30,
   "id": "green-frost",
   "metadata": {},
   "outputs": [
    {
     "name": "stdout",
     "output_type": "stream",
     "text": [
      "True\n"
     ]
    }
   ],
   "source": [
    "a = 'This is some string'\n",
    "b = \"This is some string\"\n",
    "print(a == b)"
   ]
  },
  {
   "cell_type": "code",
   "execution_count": 31,
   "id": "maritime-opera",
   "metadata": {},
   "outputs": [
    {
     "name": "stdout",
     "output_type": "stream",
     "text": [
      " Both tests are the same i.e. a=test and b=test and a==b is True\n"
     ]
    }
   ],
   "source": [
    "a,b = 'test', \"test\"\n",
    "print(f\" Both tests are the same i.e. a={a} and b={b} and a==b is {a==b}\") "
   ]
  },
  {
   "cell_type": "code",
   "execution_count": 32,
   "id": "vietnamese-knock",
   "metadata": {},
   "outputs": [
    {
     "name": "stdout",
     "output_type": "stream",
     "text": [
      "We can escape the single: \n",
      "\" 'The Green Hills of Earth' is one of my favourite stories,\" my teacher said.\n",
      "Or the double: \n",
      "\" 'The Green Hills of Earth' is one of my favourite stories,\" my teacher said.\n"
     ]
    }
   ],
   "source": [
    "mixed_quote_phrash = '\" \\'The Green Hills of Earth\\' is one of my favourite stories,\" my teacher said.'\n",
    "print(f\"We can escape the single: \\n{mixed_quote_phrash}\")\n",
    "mixed_quote_phrash = \"\\\" 'The Green Hills of Earth' is one of my favourite stories,\\\" my teacher said.\"\n",
    "print(f\"Or the double: \\n{mixed_quote_phrash}\")"
   ]
  },
  {
   "cell_type": "code",
   "execution_count": 33,
   "id": "specific-black",
   "metadata": {},
   "outputs": [
    {
     "name": "stdout",
     "output_type": "stream",
     "text": [
      "some times we want to find how long is a string  = 47\n"
     ]
    }
   ],
   "source": [
    "some_string = \"some times we want to find how long is a string\"\n",
    "print(f'{some_string}  = {len(some_string)}')"
   ]
  },
  {
   "cell_type": "code",
   "execution_count": 34,
   "id": "southwest-patent",
   "metadata": {},
   "outputs": [
    {
     "name": "stdout",
     "output_type": "stream",
     "text": [
      "Access start index using [0]\t\t\t= S \n",
      "Access end index using  [-1] \t\t\t= G \n",
      "Use the colon [start:end] to perform slicing \t=  A \n",
      "Get everything UPTO [:end] \t\t\t= SOME \n",
      "Get everything FROM TO [start:end-2] \t\t=  A STRI\n"
     ]
    }
   ],
   "source": [
    "print(f\"Access start index using [0]\\t\\t\\t= {some_string[0].upper()} \\n\\\n",
    "Access end index using  [-1] \\t\\t\\t= {some_string[-1].upper()} \\n\\\n",
    "Use the colon [start:end] to perform slicing \\t= {some_string[38:40].upper()} \\n\\\n",
    "Get everything UPTO [:end] \\t\\t\\t= {some_string[:4].upper()} \\n\\\n",
    "Get everything FROM TO [start:end-2] \\t\\t= {some_string[38:-2].upper()}\" )\n"
   ]
  },
  {
   "cell_type": "code",
   "execution_count": 35,
   "id": "respected-clark",
   "metadata": {},
   "outputs": [
    {
     "name": "stdout",
     "output_type": "stream",
     "text": [
      "Print everything [:]\t\t= SOME TIMES WE WANT TO FIND HOW LONG IS A STRING \n",
      "Print every second word [::2] \t= SM IE EWN OFN O OGI  TIG \n",
      "Everything in reverse [::-1]\t= GNIRTS A SI GNOL WOH DNIF OT TNAW EW SEMIT EMOS\n"
     ]
    }
   ],
   "source": [
    "print(f\"Print everything [:]\\t\\t= {some_string[:].upper()} \\n\\\n",
    "Print every second word [::2] \\t= {some_string[::2].upper()} \\n\\\n",
    "Everything in reverse [::-1]\\t= {some_string[::-1].upper()}\" )"
   ]
  },
  {
   "cell_type": "code",
   "execution_count": 36,
   "id": "straight-irrigation",
   "metadata": {},
   "outputs": [
    {
     "name": "stdout",
     "output_type": "stream",
     "text": [
      "Access start index using [0]\t\t\t= S \n",
      "Access end index using  [-1] \t\t\t= G \n",
      "Use the colon [start:end] to perform slicing \t=  A \n",
      "Get everything UPTO [:end] \t\t\t= SOME \n",
      "Get everything FROM TO [start:end-2] \t\t=  A STRI\n"
     ]
    }
   ],
   "source": [
    "print(f\"Access start index using [0]\\t\\t\\t= {some_string[0].upper()} \\n\\\n",
    "Access end index using  [-1] \\t\\t\\t= {some_string[-1].upper()} \\n\\\n",
    "Use the colon [start:end] to perform slicing \\t= {some_string[38:40].upper()} \\n\\\n",
    "Get everything UPTO [:end] \\t\\t\\t= {some_string[:4].upper()} \\n\\\n",
    "Get everything FROM TO [start:end-2] \\t\\t= {some_string[38:-2].upper()}\" )"
   ]
  },
  {
   "cell_type": "code",
   "execution_count": 37,
   "id": "sensitive-telling",
   "metadata": {},
   "outputs": [
    {
     "ename": "TypeError",
     "evalue": "'str' object does not support item assignment",
     "output_type": "error",
     "traceback": [
      "\u001b[0;31m---------------------------------------------------------------------------\u001b[0m",
      "\u001b[0;31mTypeError\u001b[0m                                 Traceback (most recent call last)",
      "\u001b[0;32m<ipython-input-37-8856a305a25f>\u001b[0m in \u001b[0;36m<module>\u001b[0;34m\u001b[0m\n\u001b[0;32m----> 1\u001b[0;31m \u001b[0msome_string\u001b[0m\u001b[0;34m[\u001b[0m\u001b[0;36m4\u001b[0m\u001b[0;34m]\u001b[0m\u001b[0;34m=\u001b[0m\u001b[0;34m'a'\u001b[0m\u001b[0;34m\u001b[0m\u001b[0;34m\u001b[0m\u001b[0m\n\u001b[0m",
      "\u001b[0;31mTypeError\u001b[0m: 'str' object does not support item assignment"
     ]
    }
   ],
   "source": [
    "some_string[4]='a'"
   ]
  },
  {
   "cell_type": "code",
   "execution_count": 38,
   "id": "tired-detective",
   "metadata": {},
   "outputs": [
    {
     "name": "stdout",
     "output_type": "stream",
     "text": [
      "['some', 'times', 'we', 'would', 'like', 'to', 'split', 'long', 'text']\n",
      "['It', 'can', 'use any', 'kind of', ' delimiter']\n",
      "['You', 'can', 'also', 'define,how,many,splits']\n",
      "['As,well,as,direction', 'of', 'splits']\n"
     ]
    }
   ],
   "source": [
    "print(\"some times we would like to split long text\".split())\n",
    "print(\"It,can,use any,kind of, delimiter\".split(','))\n",
    "print(\"You,can,also,define,how,many,splits\".split(',',3))\n",
    "print(\"As,well,as,direction,of,splits\".rsplit(',',2))"
   ]
  },
  {
   "cell_type": "code",
   "execution_count": 39,
   "id": "mental-prediction",
   "metadata": {},
   "outputs": [
    {
     "name": "stdout",
     "output_type": "stream",
     "text": [
      "sometimeswouldwouldwe\n"
     ]
    }
   ],
   "source": [
    "a,b,c,d = 'some','times', 'we', 'would'\n",
    "print(a+b+d*2+c)"
   ]
  },
  {
   "cell_type": "code",
   "execution_count": 40,
   "id": "gothic-flight",
   "metadata": {},
   "outputs": [
    {
     "name": "stdout",
     "output_type": "stream",
     "text": [
      "Do you know what Malarkey means?\n",
      "\n",
      "'Malarkey' refers to talk that is particularly foolish\n"
     ]
    }
   ],
   "source": [
    "some_str = \"Malarkey\"\n",
    "print(f\"Do you know what {some_str} means?\\n\") \n",
    "# using !r will keep the string\n",
    "print(f\"{some_str!r} refers to talk that is particularly foolish\") "
   ]
  },
  {
   "cell_type": "code",
   "execution_count": 41,
   "id": "orange-flesh",
   "metadata": {},
   "outputs": [
    {
     "name": "stdout",
     "output_type": "stream",
     "text": [
      "May 26, 2020 13:30:10\n"
     ]
    }
   ],
   "source": [
    "from datetime import date\n",
    "from datetime import time\n",
    "some_date = date(year=2020, month=5, day=26)\n",
    "some_time = time(hour=13, minute=30,second=10)\n",
    "print(f\"{some_date:%B %d, %Y} {some_time:%H:%M:%S}\") "
   ]
  },
  {
   "cell_type": "code",
   "execution_count": 42,
   "id": "indirect-purple",
   "metadata": {},
   "outputs": [
    {
     "name": "stdout",
     "output_type": "stream",
     "text": [
      "f0\n",
      "360\n",
      "2.400000e+02\n"
     ]
    }
   ],
   "source": [
    "some_number = 240\n",
    "\n",
    "print(f\"{some_number:x}\") # hexadecimal\n",
    "print(f\"{some_number:o}\") # octal\n",
    "print(f\"{some_number:e}\") # scientific"
   ]
  },
  {
   "cell_type": "code",
   "execution_count": 43,
   "id": "adolescent-hurricane",
   "metadata": {},
   "outputs": [
    {
     "data": {
      "text/plain": [
       "'240 in binary is 11110000'"
      ]
     },
     "execution_count": 43,
     "metadata": {},
     "output_type": "execute_result"
    }
   ],
   "source": [
    "f'{some_number} in binary is {some_number:>08b}'"
   ]
  },
  {
   "cell_type": "code",
   "execution_count": 44,
   "id": "extraordinary-chambers",
   "metadata": {},
   "outputs": [
    {
     "name": "stdout",
     "output_type": "stream",
     "text": [
      "240 in Hexadecimal is f0\n",
      "240 in octal is 360\n",
      "240 in scientific is 2.400000e+02\n",
      "240 in binary is 11110000\n"
     ]
    }
   ],
   "source": [
    "print(f\"{some_number} in Hexadecimal is {some_number:x}\") \n",
    "print(f\"{some_number} in octal is {some_number:o}\")\n",
    "print(f\"{some_number} in scientific is {some_number:e}\") \n",
    "print(f\"{some_number} in binary is {some_number:>08b}\")"
   ]
  },
  {
   "cell_type": "code",
   "execution_count": 47,
   "id": "baking-consultation",
   "metadata": {},
   "outputs": [
    {
     "name": "stdout",
     "output_type": "stream",
     "text": [
      "some_list length is \t:4\n",
      "another_list length is \t:4\n",
      "mixed_list length is \t:6\n"
     ]
    }
   ],
   "source": [
    "print(f\"some_list length is \\t:{len(some_list)}\")\n",
    "print(f\"another_list length is \\t:{len(another_list)}\")\n",
    "print(f\"mixed_list length is \\t:{len(mixed_list)}\")  "
   ]
  },
  {
   "cell_type": "code",
   "execution_count": 46,
   "id": "interesting-principal",
   "metadata": {},
   "outputs": [
    {
     "name": "stdout",
     "output_type": "stream",
     "text": [
      "[]\n",
      "['frontal', 'parietal', 'temporal', 'occipital']\n",
      "[1, 2, 3, 4]\n",
      "['frontal', 2.1, 0.00112, (2-2j), True, 'a']\n"
     ]
    }
   ],
   "source": [
    "empty_list = []\n",
    "print(empty_list)\n",
    "some_list = ['frontal', 'parietal', 'temporal', 'occipital']\n",
    "print(some_list)\n",
    "another_list = [1, 2, 3, 4]\n",
    "print(another_list)\n",
    "mixed_list = ['frontal', 2.1, 0.112e-2, 2-2j,True,'a']\n",
    "print(mixed_list)"
   ]
  },
  {
   "cell_type": "code",
   "execution_count": 48,
   "id": "constant-philippines",
   "metadata": {},
   "outputs": [
    {
     "name": "stdout",
     "output_type": "stream",
     "text": [
      "Access start index using [0]\t\t\t= frontal \n",
      "Access end index using  [-1] \t\t\t= a \n",
      "Use the colon [start:end] to perform slicing \t= [2.1, 0.00112] \n",
      "Get everything UPTO [:end] \t\t\t= ['frontal', 2.1, 0.00112, (2-2j)] \n",
      "Get everything FROM [start:] \t\t\t= [(2-2j), True, 'a'] \n"
     ]
    }
   ],
   "source": [
    "print(f\"Access start index using [0]\\t\\t\\t= {mixed_list[0]} \\n\\\n",
    "Access end index using  [-1] \\t\\t\\t= {mixed_list[-1]} \\n\\\n",
    "Use the colon [start:end] to perform slicing \\t= {mixed_list[1:3]} \\n\\\n",
    "Get everything UPTO [:end] \\t\\t\\t= {mixed_list[:4]} \\n\\\n",
    "Get everything FROM [start:] \\t\\t\\t= {mixed_list[3:]} \" )"
   ]
  },
  {
   "cell_type": "code",
   "execution_count": 49,
   "id": "guided-writing",
   "metadata": {},
   "outputs": [
    {
     "name": "stdout",
     "output_type": "stream",
     "text": [
      "Get everything [:]\t\t= ['frontal', 2.1, 0.00112, (2-2j), True, 'a'] \n",
      "Get every second element [::2] \t= ['frontal', 0.00112, True] \n",
      "Get list in reverse [::-1]\t= ['a', True, (2-2j), 0.00112, 2.1, 'frontal']\n"
     ]
    }
   ],
   "source": [
    "print(f\"Get everything [:]\\t\\t= {mixed_list[:]} \\n\\\n",
    "Get every second element [::2] \\t= {mixed_list[::2]} \\n\\\n",
    "Get list in reverse [::-1]\\t= {mixed_list[::-1]}\" )"
   ]
  },
  {
   "cell_type": "code",
   "execution_count": 51,
   "id": "junior-package",
   "metadata": {},
   "outputs": [
    {
     "name": "stdout",
     "output_type": "stream",
     "text": [
      "Access start index using [0]\t\t\t= frontal \n",
      "Access end index using  [-1] \t\t\t= a \n",
      "Use the colon [start:end] to perform slicing \t= [2.1, 0.00112] \n",
      "Get everything UPTO [:end] \t\t\t= ['frontal', 2.1, 0.00112, (2-2j)] \n",
      "Get everything FROM [start:] \t\t\t= [(2-2j), True, 'a'] \n",
      "Get everything [:]\t\t\t\t= ['frontal', 2.1, 0.00112, (2-2j), True, 'a'] \n",
      "Get every second element [::2] \t\t\t= ['frontal', 0.00112, True] \n",
      "Get list in reverse [::-1]\t\t\t= ['a', True, (2-2j), 0.00112, 2.1, 'frontal']\n"
     ]
    }
   ],
   "source": [
    "print(f\"Access start index using [0]\\t\\t\\t= {mixed_list[0]} \\n\\\n",
    "Access end index using  [-1] \\t\\t\\t= {mixed_list[-1]} \\n\\\n",
    "Use the colon [start:end] to perform slicing \\t= {mixed_list[1:3]} \\n\\\n",
    "Get everything UPTO [:end] \\t\\t\\t= {mixed_list[:4]} \\n\\\n",
    "Get everything FROM [start:] \\t\\t\\t= {mixed_list[3:]} \" )\n",
    "print(f\"Get everything [:]\\t\\t\\t\\t= {mixed_list[:]} \\n\\\n",
    "Get every second element [::2] \\t\\t\\t= {mixed_list[::2]} \\n\\\n",
    "Get list in reverse [::-1]\\t\\t\\t= {mixed_list[::-1]}\" )"
   ]
  },
  {
   "cell_type": "code",
   "execution_count": 52,
   "id": "macro-likelihood",
   "metadata": {},
   "outputs": [
    {
     "name": "stdout",
     "output_type": "stream",
     "text": [
      "some_list + mixed_list length is \t:10\n",
      "['frontal', 'parietal', 'temporal', 'occipital', 'frontal', 'parietal', 'temporal', 'occipital']\n"
     ]
    }
   ],
   "source": [
    "print(f\"some_list + mixed_list length is \\t:{len(some_list+mixed_list)}\")\n",
    "print(some_list*2)"
   ]
  },
  {
   "cell_type": "code",
   "execution_count": 53,
   "id": "neither-compatibility",
   "metadata": {},
   "outputs": [
    {
     "name": "stdout",
     "output_type": "stream",
     "text": [
      "Int lists can be created using range\t:[0, 1, 2, 3, 4]\n",
      "This is quite flexible \t\t\t:[45, 46, 47, 48]\n",
      "And allows even steps \t\t\t:[56, 59, 62, 65, 68]\n",
      "Also in reverse \t\t\t:[-56, -59, -62, -65, -68]\n",
      "String can create Letters lists \t:['f', 'r', 'o', 'n', 't', 'a', 'l']\n"
     ]
    }
   ],
   "source": [
    "letter_list = list('frontal')\n",
    "print(f\"Int lists can be created using range\\t:{list(range(5))}\")\n",
    "print(f\"This is quite flexible \\t\\t\\t:{list(range(45,49))}\")\n",
    "print(f\"And allows even steps \\t\\t\\t:{list(range(56,69,3))}\")\n",
    "print(f\"Also in reverse \\t\\t\\t:{list(range(-56,-69,-3))}\")\n",
    "print(f\"String can create Letters lists \\t:{letter_list}\")"
   ]
  },
  {
   "cell_type": "code",
   "execution_count": 76,
   "id": "parental-fleece",
   "metadata": {},
   "outputs": [
    {
     "name": "stdout",
     "output_type": "stream",
     "text": [
      "We can remove everything from index 2 till -1 :['f', 'r', 'l']\n",
      "We can change an item if it exists \t:['f', 'r', 'T']\n",
      "We can also add an item to the end \t:['f', 'r', 'T', 'R']\n",
      "We can insert and item before an item \t:['f', 'r', 'B', 'T', 'R']\n",
      "Or extend the list with another one \t:['f', 'r', 'B', 'T', 'R', 'occipital', 'temporal', 'parietal', 'frontal']\n"
     ]
    }
   ],
   "source": [
    "letter_list = list('frontal')\n",
    "letter_list[2:-1] = []\n",
    "print(f\"We can remove everything from index 2 till -1 :{letter_list}\")\n",
    "letter_list[2] = 'T'\n",
    "print(f\"We can change an item if it exists \\t:{letter_list}\")\n",
    "letter_list.append('R') \n",
    "print(f\"We can also add an item to the end \\t:{letter_list}\")\n",
    "letter_list.insert(2,'B') \n",
    "print(f\"We can insert and item before an item \\t:{letter_list}\")\n",
    "letter_list.extend(some_list[::-1]) \n",
    "print(f\"Or extend the list with another one \\t:{letter_list}\")"
   ]
  },
  {
   "cell_type": "code",
   "execution_count": 74,
   "id": "frozen-generator",
   "metadata": {},
   "outputs": [
    {
     "data": {
      "text/plain": [
       "['occipital', 'temporal', 'parietal', 'frontal']"
      ]
     },
     "execution_count": 74,
     "metadata": {},
     "output_type": "execute_result"
    }
   ],
   "source": [
    "some_list[::-1]"
   ]
  },
  {
   "cell_type": "code",
   "execution_count": 79,
   "id": "excess-bottle",
   "metadata": {},
   "outputs": [
    {
     "name": "stdout",
     "output_type": "stream",
     "text": [
      "some_tuple length is \t:4\n",
      "another_tuple length is \t:4\n",
      "mixed_tuple length is \t:8\n"
     ]
    }
   ],
   "source": [
    "print(f\"some_tuple length is \\t:{len(some_tuple)}\")\n",
    "print(f\"another_tuple length is \\t:{len(another_tuple)}\")\n",
    "print(f\"mixed_tuple length is \\t:{len(mixed_tuple)}\")  "
   ]
  },
  {
   "cell_type": "code",
   "execution_count": 78,
   "id": "liberal-spread",
   "metadata": {},
   "outputs": [
    {
     "name": "stdout",
     "output_type": "stream",
     "text": [
      "()\n",
      "('frontal', 'parietal', 'temporal', 'occipital')\n",
      "(1, 2, 3, 4)\n",
      "('frontal', 2.1, 0.00112, (2-2j), True, 'a', 'a', 'c')\n"
     ]
    }
   ],
   "source": [
    "empty_tuple = ()\n",
    "print(empty_tuple)\n",
    "some_tuple = ('frontal', 'parietal', 'temporal', 'occipital')\n",
    "print(some_tuple)\n",
    "another_tuple = (1, 2, 3, 4)\n",
    "print(another_tuple)\n",
    "mixed_tuple = ('frontal', 2.1, 0.112e-2, 2-2j,True,'a','a','c')\n",
    "print(mixed_tuple)"
   ]
  },
  {
   "cell_type": "code",
   "execution_count": 80,
   "id": "expanded-matter",
   "metadata": {},
   "outputs": [
    {
     "name": "stdout",
     "output_type": "stream",
     "text": [
      "Access start index using [0]\t\t\t= frontal \n",
      "Access end index using  [-1] \t\t\t= c \n",
      "Use the colon [start:end] to perform slicing \t= (2.1, 0.00112) \n",
      "Get everything UPTO [:end] \t\t\t= ('frontal', 2.1, 0.00112, (2-2j)) \n",
      "Get everything FROM [start:] \t\t\t= ((2-2j), True, 'a', 'a', 'c') \n"
     ]
    }
   ],
   "source": [
    "print(f\"Access start index using [0]\\t\\t\\t= {mixed_tuple[0]} \\n\\\n",
    "Access end index using  [-1] \\t\\t\\t= {mixed_tuple[-1]} \\n\\\n",
    "Use the colon [start:end] to perform slicing \\t= {mixed_tuple[1:3]} \\n\\\n",
    "Get everything UPTO [:end] \\t\\t\\t= {mixed_tuple[:4]} \\n\\\n",
    "Get everything FROM [start:] \\t\\t\\t= {mixed_tuple[3:]} \" )"
   ]
  },
  {
   "cell_type": "code",
   "execution_count": 84,
   "id": "determined-aaron",
   "metadata": {},
   "outputs": [
    {
     "name": "stdout",
     "output_type": "stream",
     "text": [
      "Access start index using [0]\t\t\t= frontal \n",
      "Access end index using  [-1] \t\t\t= c \n",
      "Use the colon [start:end] to perform slicing \t= (2.1, 0.00112) \n",
      "Get everything UPTO [:end] \t\t\t= ('frontal', 2.1, 0.00112, (2-2j)) \n",
      "Get everything FROM [start:] \t\t\t= ((2-2j), True, 'a', 'a', 'c') \n",
      "Get everything [:]\t\t\t\t= ('frontal', 2.1, 0.00112, (2-2j), True, 'a', 'a', 'c') \n",
      "Get every second element [::2] \t\t\t= ('frontal', 0.00112, True, 'a') \n",
      "Get tuple in reverse [::-1]\t\t\t= ('c', 'a', 'a', True, (2-2j), 0.00112, 2.1, 'frontal')\n"
     ]
    }
   ],
   "source": [
    "print(f\"Access start index using [0]\\t\\t\\t= {mixed_tuple[0]} \\n\\\n",
    "Access end index using  [-1] \\t\\t\\t= {mixed_tuple[-1]} \\n\\\n",
    "Use the colon [start:end] to perform slicing \\t= {mixed_tuple[1:3]} \\n\\\n",
    "Get everything UPTO [:end] \\t\\t\\t= {mixed_tuple[:4]} \\n\\\n",
    "Get everything FROM [start:] \\t\\t\\t= {mixed_tuple[3:]} \\n\\\n",
    "Get everything [:]\\t\\t\\t\\t= {mixed_tuple[:]} \\n\\\n",
    "Get every second element [::2] \\t\\t\\t= {mixed_tuple[::2]} \\n\\\n",
    "Get tuple in reverse [::-1]\\t\\t\\t= {mixed_tuple[::-1]}\" )"
   ]
  },
  {
   "cell_type": "code",
   "execution_count": 85,
   "id": "dramatic-capital",
   "metadata": {},
   "outputs": [
    {
     "name": "stdout",
     "output_type": "stream",
     "text": [
      "Where is 'a'? \t\tindex= 5\n"
     ]
    },
    {
     "ename": "ValueError",
     "evalue": "tuple.index(x): x not in tuple",
     "output_type": "error",
     "traceback": [
      "\u001b[0;31m---------------------------------------------------------------------------\u001b[0m",
      "\u001b[0;31mValueError\u001b[0m                                Traceback (most recent call last)",
      "\u001b[0;32m<ipython-input-85-736131f74123>\u001b[0m in \u001b[0;36m<module>\u001b[0;34m\u001b[0m\n\u001b[1;32m      1\u001b[0m \u001b[0mprint\u001b[0m\u001b[0;34m(\u001b[0m\u001b[0;34mf\"Where is 'a'? \\t\\tindex= {mixed_tuple.index('a')}\"\u001b[0m\u001b[0;34m)\u001b[0m\u001b[0;34m\u001b[0m\u001b[0;34m\u001b[0m\u001b[0m\n\u001b[0;32m----> 2\u001b[0;31m \u001b[0mprint\u001b[0m\u001b[0;34m(\u001b[0m\u001b[0;34mf\"Where is 'l'? \\t\\tindex= {mixed_tuple.index('l')}\"\u001b[0m\u001b[0;34m)\u001b[0m\u001b[0;34m\u001b[0m\u001b[0;34m\u001b[0m\u001b[0m\n\u001b[0m",
      "\u001b[0;31mValueError\u001b[0m: tuple.index(x): x not in tuple"
     ]
    }
   ],
   "source": [
    "print(f\"Where is 'a'? \\t\\tindex= {mixed_tuple.index('a')}\")\n",
    "print(f\"Where is 'l'? \\t\\tindex= {mixed_tuple.index('l')}\")"
   ]
  },
  {
   "cell_type": "code",
   "execution_count": 86,
   "id": "verbal-borough",
   "metadata": {},
   "outputs": [
    {
     "data": {
      "text/plain": [
       "('frontal', 2.1, 0.00112, (2-2j), True, 'a', 'a', 'c')"
      ]
     },
     "execution_count": 86,
     "metadata": {},
     "output_type": "execute_result"
    }
   ],
   "source": [
    "mixed_tuple"
   ]
  },
  {
   "cell_type": "code",
   "execution_count": 90,
   "id": "printable-advice",
   "metadata": {},
   "outputs": [
    {
     "name": "stdout",
     "output_type": "stream",
     "text": [
      "Where is 'a'? \t\tindex= 5\n",
      "How many 'a's? \t\tindex= 2\n"
     ]
    },
    {
     "ename": "ValueError",
     "evalue": "tuple.index(x): x not in tuple",
     "output_type": "error",
     "traceback": [
      "\u001b[0;31m---------------------------------------------------------------------------\u001b[0m",
      "\u001b[0;31mValueError\u001b[0m                                Traceback (most recent call last)",
      "\u001b[0;32m<ipython-input-90-19ef4663bbed>\u001b[0m in \u001b[0;36m<module>\u001b[0;34m\u001b[0m\n\u001b[1;32m      1\u001b[0m \u001b[0mprint\u001b[0m\u001b[0;34m(\u001b[0m\u001b[0;34mf\"Where is 'a'? \\t\\tindex= {mixed_tuple.index('a')}\"\u001b[0m\u001b[0;34m)\u001b[0m\u001b[0;34m\u001b[0m\u001b[0;34m\u001b[0m\u001b[0m\n\u001b[1;32m      2\u001b[0m \u001b[0mprint\u001b[0m\u001b[0;34m(\u001b[0m\u001b[0;34mf\"How many 'a's? \\t\\tindex= {mixed_tuple.count('a')}\"\u001b[0m\u001b[0;34m)\u001b[0m\u001b[0;34m\u001b[0m\u001b[0;34m\u001b[0m\u001b[0m\n\u001b[0;32m----> 3\u001b[0;31m \u001b[0mprint\u001b[0m\u001b[0;34m(\u001b[0m\u001b[0;34mf\"Where is 'a'? \\t\\tindex= {mixed_tuple.index('l')}\"\u001b[0m\u001b[0;34m)\u001b[0m\u001b[0;34m\u001b[0m\u001b[0;34m\u001b[0m\u001b[0m\n\u001b[0m",
      "\u001b[0;31mValueError\u001b[0m: tuple.index(x): x not in tuple"
     ]
    }
   ],
   "source": [
    "print(f\"Where is 'a'? \\t\\tindex= {mixed_tuple.index('a')}\")\n",
    "print(f\"How many 'a's? \\t\\tindex= {mixed_tuple.count('a')}\")\n",
    "print(f\"Where is 'a'? \\t\\tindex= {mixed_tuple.index('l')}\")\n"
   ]
  },
  {
   "cell_type": "code",
   "execution_count": 91,
   "id": "sophisticated-wednesday",
   "metadata": {},
   "outputs": [
    {
     "name": "stdout",
     "output_type": "stream",
     "text": [
      "How many items are in combined_tuple \tn= 12\n",
      "('frontal', 'parietal', 'temporal', 'occipital', 'frontal', 2.1, 0.00112, (2-2j), True, 'a', 'a', 'c')\n",
      "How many items are in multiplied_tuple \tn= 8\n",
      "('frontal', 'parietal', 'temporal', 'occipital', 'frontal', 'parietal', 'temporal', 'occipital')\n"
     ]
    }
   ],
   "source": [
    "combined_tuple = some_tuple + mixed_tuple\n",
    "print(f\"How many items are in combined_tuple \\tn= {len(combined_tuple)}\")\n",
    "print(f\"{combined_tuple}\")\n",
    "multiplied_tuple =some_tuple*2 \n",
    "print(f\"How many items are in multiplied_tuple \\tn= {len(multiplied_tuple)}\")\n",
    "print(f\"{multiplied_tuple}\")"
   ]
  },
  {
   "cell_type": "code",
   "execution_count": 93,
   "id": "civil-subcommittee",
   "metadata": {},
   "outputs": [
    {
     "ename": "TypeError",
     "evalue": "'tuple' object does not support item assignment",
     "output_type": "error",
     "traceback": [
      "\u001b[0;31m---------------------------------------------------------------------------\u001b[0m",
      "\u001b[0;31mTypeError\u001b[0m                                 Traceback (most recent call last)",
      "\u001b[0;32m<ipython-input-93-ef67584321b7>\u001b[0m in \u001b[0;36m<module>\u001b[0;34m\u001b[0m\n\u001b[0;32m----> 1\u001b[0;31m \u001b[0mmixed_tuple\u001b[0m\u001b[0;34m[\u001b[0m\u001b[0;36m2\u001b[0m\u001b[0;34m]\u001b[0m\u001b[0;34m=\u001b[0m \u001b[0;34m'a'\u001b[0m\u001b[0;34m\u001b[0m\u001b[0;34m\u001b[0m\u001b[0m\n\u001b[0m",
      "\u001b[0;31mTypeError\u001b[0m: 'tuple' object does not support item assignment"
     ]
    }
   ],
   "source": [
    "mixed_tuple[2]= 'a'\n"
   ]
  },
  {
   "cell_type": "code",
   "execution_count": 94,
   "id": "square-redhead",
   "metadata": {},
   "outputs": [],
   "source": [
    "t = {'a':5,'a':6}"
   ]
  },
  {
   "cell_type": "code",
   "execution_count": 95,
   "id": "temporal-isolation",
   "metadata": {},
   "outputs": [
    {
     "data": {
      "text/plain": [
       "{'a': 6}"
      ]
     },
     "execution_count": 95,
     "metadata": {},
     "output_type": "execute_result"
    }
   ],
   "source": [
    "t"
   ]
  },
  {
   "cell_type": "code",
   "execution_count": 99,
   "id": "intermediate-heritage",
   "metadata": {},
   "outputs": [
    {
     "name": "stdout",
     "output_type": "stream",
     "text": [
      "{1: {'MD': 'Multiple demands'}, 2: ['DMN', 'default mode network'], 3: ('ECN', 'executive control')}\n"
     ]
    }
   ],
   "source": [
    "empty_dict = {}\n",
    "some_dict = {\"SBC\":\"subcortical\",\"DMN\":\"default mode network\",\"ECN\":\"executive control\", \"ATT\":\"attentional\"}\n",
    "mixed_dict = {1:{\"SBC\":\"subcortical\"},2:[\"DMN\",\"default mode network\"], 3:(\"ECN\",\"executive control\"),1:{\"MD\":\"Multiple demands\"}}\n",
    "print(mixed_dict)"
   ]
  },
  {
   "cell_type": "code",
   "execution_count": 97,
   "id": "difficult-spice",
   "metadata": {},
   "outputs": [
    {
     "name": "stdout",
     "output_type": "stream",
     "text": [
      "{1: {'SBC': 'subcortical'}, 2: ['DMN', 'default mode network'], 3: ('ECN', 'executive control')}\n"
     ]
    }
   ],
   "source": [
    "print(mixed_dict)"
   ]
  },
  {
   "cell_type": "code",
   "execution_count": 100,
   "id": "engaged-daniel",
   "metadata": {},
   "outputs": [
    {
     "ename": "NameError",
     "evalue": "name 'lobes' is not defined",
     "output_type": "error",
     "traceback": [
      "\u001b[0;31m---------------------------------------------------------------------------\u001b[0m",
      "\u001b[0;31mNameError\u001b[0m                                 Traceback (most recent call last)",
      "\u001b[0;32m<ipython-input-100-31db6260f070>\u001b[0m in \u001b[0;36m<module>\u001b[0;34m\u001b[0m\n\u001b[0;32m----> 1\u001b[0;31m \u001b[0msame_lobes\u001b[0m \u001b[0;34m=\u001b[0m \u001b[0mlobes\u001b[0m\u001b[0;34m;\u001b[0m\u001b[0mlobes\u001b[0m\u001b[0;34m[\u001b[0m\u001b[0;36m1\u001b[0m\u001b[0;34m]\u001b[0m\u001b[0;34m=\u001b[0m \u001b[0;36m0\u001b[0m\u001b[0;34m\u001b[0m\u001b[0;34m\u001b[0m\u001b[0m\n\u001b[0m\u001b[1;32m      2\u001b[0m \u001b[0mprint\u001b[0m\u001b[0;34m(\u001b[0m\u001b[0;34mf\"lobes length :{same_lobes.values()}\"\u001b[0m\u001b[0;34m)\u001b[0m\u001b[0;34m\u001b[0m\u001b[0;34m\u001b[0m\u001b[0m\n\u001b[1;32m      3\u001b[0m \u001b[0msame_lobes\u001b[0m \u001b[0;34m=\u001b[0m \u001b[0mlobes\u001b[0m\u001b[0;34m.\u001b[0m\u001b[0mcopy\u001b[0m\u001b[0;34m(\u001b[0m\u001b[0;34m)\u001b[0m\u001b[0;34m;\u001b[0m\u001b[0mlobes\u001b[0m\u001b[0;34m[\u001b[0m\u001b[0;36m1\u001b[0m\u001b[0;34m]\u001b[0m\u001b[0;34m=\u001b[0m \u001b[0;36m5\u001b[0m\u001b[0;34m\u001b[0m\u001b[0;34m\u001b[0m\u001b[0m\n\u001b[1;32m      4\u001b[0m \u001b[0mprint\u001b[0m\u001b[0;34m(\u001b[0m\u001b[0;34mf\"lobes length :{same_lobes.values()}\"\u001b[0m\u001b[0;34m)\u001b[0m\u001b[0;34m\u001b[0m\u001b[0;34m\u001b[0m\u001b[0m\n",
      "\u001b[0;31mNameError\u001b[0m: name 'lobes' is not defined"
     ]
    }
   ],
   "source": [
    "same_lobes = lobes;lobes[1]= 0\n",
    "print(f\"lobes length :{same_lobes.values()}\")\n",
    "same_lobes = lobes.copy();lobes[1]= 5\n",
    "print(f\"lobes length :{same_lobes.values()}\")"
   ]
  },
  {
   "cell_type": "code",
   "execution_count": 101,
   "id": "terminal-brush",
   "metadata": {},
   "outputs": [
    {
     "name": "stdout",
     "output_type": "stream",
     "text": [
      "lobes keys :dict_keys([1, 2, 3, 4, 5])\n",
      "lobes values :dict_values(['frontal', 'parietal', 'temporal', 'occipital', 'insula'])\n",
      "lobes items :dict_items([(1, 'frontal'), (2, 'parietal'), (3, 'temporal'), (4, 'occipital'), (5, 'insula')])\n",
      "lobes length :5\n"
     ]
    }
   ],
   "source": [
    "lobes = {1:'frontal', 2:'parietal', 3:'temporal', 4:'occipital',5:'insula'}\n",
    "print(f\"lobes keys :{lobes.keys()}\") \n",
    "print(f\"lobes values :{lobes.values()}\") \n",
    "print(f\"lobes items :{lobes.items()}\")\n",
    "print(f\"lobes length :{len(lobes)}\")"
   ]
  },
  {
   "cell_type": "code",
   "execution_count": 102,
   "id": "artistic-exhibition",
   "metadata": {},
   "outputs": [],
   "source": [
    "same_lobes = lobes"
   ]
  },
  {
   "cell_type": "code",
   "execution_count": 103,
   "id": "accurate-mission",
   "metadata": {},
   "outputs": [],
   "source": [
    "same_lobes[1]=0"
   ]
  },
  {
   "cell_type": "code",
   "execution_count": 104,
   "id": "voluntary-municipality",
   "metadata": {},
   "outputs": [
    {
     "data": {
      "text/plain": [
       "{1: 0, 2: 'parietal', 3: 'temporal', 4: 'occipital', 5: 'insula'}"
      ]
     },
     "execution_count": 104,
     "metadata": {},
     "output_type": "execute_result"
    }
   ],
   "source": [
    "lobes"
   ]
  },
  {
   "cell_type": "code",
   "execution_count": 105,
   "id": "private-connecticut",
   "metadata": {},
   "outputs": [
    {
     "data": {
      "text/plain": [
       "{1: 0, 2: 'parietal', 3: 'temporal', 4: 'occipital', 5: 'insula'}"
      ]
     },
     "execution_count": 105,
     "metadata": {},
     "output_type": "execute_result"
    }
   ],
   "source": [
    "_"
   ]
  },
  {
   "cell_type": "code",
   "execution_count": 106,
   "id": "earlier-inspection",
   "metadata": {},
   "outputs": [],
   "source": [
    "large_number = 1_000_999\n"
   ]
  },
  {
   "cell_type": "code",
   "execution_count": 107,
   "id": "indoor-knitting",
   "metadata": {},
   "outputs": [
    {
     "data": {
      "text/plain": [
       "1000999"
      ]
     },
     "execution_count": 107,
     "metadata": {},
     "output_type": "execute_result"
    }
   ],
   "source": [
    "large_number"
   ]
  },
  {
   "cell_type": "code",
   "execution_count": 108,
   "id": "remarkable-analysis",
   "metadata": {},
   "outputs": [
    {
     "name": "stdout",
     "output_type": "stream",
     "text": [
      "old dict = {1: 'Changed on new', 2: 'parietal', 3: 'Changed on old', 4: 'occipital', 5: 'insula'}\n",
      "new dict = {1: 'Changed on new', 2: 'parietal', 3: 'Changed on old', 4: 'occipital', 5: 'insula'}\n"
     ]
    }
   ],
   "source": [
    "lobes_reference = lobes # assign the existing dict to a new variable\n",
    "lobes_reference[1] = 'Changed on new'\n",
    "lobes[3] = 'Changed on old'\n",
    "print(f'old dict = {lobes}')\n",
    "print(f'new dict = {lobes_reference}')"
   ]
  },
  {
   "cell_type": "code",
   "execution_count": 112,
   "id": "first-reconstruction",
   "metadata": {},
   "outputs": [
    {
     "name": "stdout",
     "output_type": "stream",
     "text": [
      "old dict = {1: 'frontal', 2: 'parietal', 3: 'Changed on old', 4: 'occipital', 5: 'insula'}\n",
      "new dict = {1: 'Changed on new', 2: 'parietal', 3: 'temporal', 4: 'occipital', 5: 'insula'}\n"
     ]
    }
   ],
   "source": [
    "lobes = {1:'frontal', 2:'parietal', 3:'temporal', 4:'occipital',5:'insula'}\n",
    "lobes_reference = lobes.copy() # copy the existing dict to a new variable\n",
    "lobes_reference[1] = 'Changed on new'\n",
    "lobes[3] = 'Changed on old'\n",
    "print(f'old dict = {lobes}')\n",
    "print(f'new dict = {lobes_reference}')"
   ]
  },
  {
   "cell_type": "code",
   "execution_count": 110,
   "id": "eastern-wichita",
   "metadata": {},
   "outputs": [],
   "source": [
    "lobes = ['frontal','parietal','temporal','occipital','insula']\n",
    "vowels = dict.fromkeys(range(len(lobes)), lobes)"
   ]
  },
  {
   "cell_type": "code",
   "execution_count": 116,
   "id": "heard-profit",
   "metadata": {},
   "outputs": [],
   "source": [
    "lobes.update({6:'subcortical',7:'brainstem'})"
   ]
  },
  {
   "cell_type": "code",
   "execution_count": 118,
   "id": "transparent-america",
   "metadata": {},
   "outputs": [
    {
     "data": {
      "text/plain": [
       "{1: 'frontal',\n",
       " 2: 'parietal',\n",
       " 3: 'Changed on old',\n",
       " 4: 'occipital',\n",
       " 5: 'insula',\n",
       " 6: 'subcortical',\n",
       " 7: 'brainstem'}"
      ]
     },
     "execution_count": 118,
     "metadata": {},
     "output_type": "execute_result"
    }
   ],
   "source": [
    "lobes.update({6:'subcortical',7:'brainstem'})\n",
    "lobes"
   ]
  },
  {
   "cell_type": "code",
   "execution_count": 119,
   "id": "ignored-confusion",
   "metadata": {},
   "outputs": [
    {
     "data": {
      "text/plain": [
       "{1: 'frontal',\n",
       " 2: 'parietal',\n",
       " 3: 'temporal',\n",
       " 4: 'occipital',\n",
       " 5: 'insula',\n",
       " 6: 'subcortical',\n",
       " 7: 'brainstem'}"
      ]
     },
     "execution_count": 119,
     "metadata": {},
     "output_type": "execute_result"
    }
   ],
   "source": [
    "lobes = {1:'frontal', 2:'parietal', 3:'temporal', 4:'occipital',5:'insula'}\n",
    "lobes.update({6:'subcortical',7:'brainstem'})\n",
    "lobes"
   ]
  },
  {
   "cell_type": "code",
   "execution_count": 120,
   "id": "computational-devil",
   "metadata": {},
   "outputs": [
    {
     "data": {
      "text/plain": [
       "{1: 'frontal',\n",
       " 2: 'parietal',\n",
       " 3: 'temporal',\n",
       " 4: 'occipital',\n",
       " 5: 'insula',\n",
       " 6: 'subcortical',\n",
       " 7: 'brainstem',\n",
       " 8: 'cerebellum'}"
      ]
     },
     "execution_count": 120,
     "metadata": {},
     "output_type": "execute_result"
    }
   ],
   "source": [
    "lobes[8] = 'cerebellum'\n",
    "lobes"
   ]
  },
  {
   "cell_type": "code",
   "execution_count": 121,
   "id": "designing-omega",
   "metadata": {},
   "outputs": [
    {
     "name": "stdout",
     "output_type": "stream",
     "text": [
      "This is an empty <class 'set'>\n",
      "This is also a set <class 'set'>\n",
      "We can use lists as constructor for sets <class 'set'>\n",
      "And we can used mixed sets <class 'set'>\n"
     ]
    }
   ],
   "source": [
    "empty_set = set()\n",
    "print(f'This is an empty {type(empty_set)}')\n",
    "some_set = {'frontal', 'parietal', 'temporal', 'occipital'}\n",
    "print(f'This is also a set {type(some_set)}')\n",
    "another_set = set([1, 2, 3, 4])\n",
    "print(f'We can use lists as constructor for sets {type(another_set)}')\n",
    "mixed_set = set(['frontal', 2,'c'])\n",
    "print(f'And we can used mixed sets {type(mixed_set)}')"
   ]
  },
  {
   "cell_type": "code",
   "execution_count": 122,
   "id": "modern-organic",
   "metadata": {},
   "outputs": [
    {
     "name": "stdout",
     "output_type": "stream",
     "text": [
      "Sets have length 3\n",
      "Elements can be removed {2, 'frontal'}\n",
      "And elements can be removed from a set 2\n",
      "Until it is empty  frontal\n",
      "And then added {'c'}\n"
     ]
    }
   ],
   "source": [
    "print(f'Sets have length {len(mixed_set)}')\n",
    "mixed_set.remove('c');print(f'Elements can be removed {mixed_set}')\n",
    "print(f'And elements can be removed from a set {mixed_set.pop()}')\n",
    "print(f'Until it is empty  {mixed_set.pop()}')\n",
    "mixed_set.add('c');print(f'And then added {mixed_set}')"
   ]
  },
  {
   "cell_type": "code",
   "execution_count": 123,
   "id": "adjacent-adult",
   "metadata": {},
   "outputs": [],
   "source": [
    "X = {1, 2, 5, 6, 7, 9}\n",
    "Y = {1, 3, 4, 5, 6, 8} \n",
    "Z = {3, 5, 6, 7, 8, 10}"
   ]
  },
  {
   "cell_type": "code",
   "execution_count": 124,
   "id": "wound-bulletin",
   "metadata": {},
   "outputs": [
    {
     "data": {
      "text/plain": [
       "set"
      ]
     },
     "execution_count": 124,
     "metadata": {},
     "output_type": "execute_result"
    }
   ],
   "source": [
    "type(X)"
   ]
  },
  {
   "cell_type": "code",
   "execution_count": 125,
   "id": "approved-worse",
   "metadata": {},
   "outputs": [
    {
     "name": "stdout",
     "output_type": "stream",
     "text": [
      "Intersection is indifferent to order X ∩ Y == Y ∩ X = True\n",
      "Intersection function can take multiple sets X ∩ Y ∩ Z = {5, 6}\n",
      "Intersection can be called using the & operator X & Y & Z = {5, 6}\n"
     ]
    }
   ],
   "source": [
    "XnY = X.intersection(Y) # X ∩ Y\n",
    "YnX = Y.intersection(X) # X ∩ Y\n",
    "print(f'Intersection is indifferent to order X ∩ Y == Y ∩ X = {XnY==YnX}')\n",
    "XnYnZ = X.intersection(Y,Z) # X ∩ Y ∩ Z\n",
    "print(f'Intersection function can take multiple sets X ∩ Y ∩ Z = {XnYnZ}')\n",
    "print(f'Intersection can be called using the & operator X & Y & Z = {X & Y & Z}')"
   ]
  },
  {
   "cell_type": "code",
   "execution_count": 126,
   "id": "velvet-sample",
   "metadata": {},
   "outputs": [
    {
     "name": "stdout",
     "output_type": "stream",
     "text": [
      "X\\Y={9, 2, 7} and is not equal to Y\\X {8, 3, 4}\n",
      "The Difference of X\\Y\\Z={9, 2}\n"
     ]
    }
   ],
   "source": [
    "print(f'X\\Y={X-Y} and is not equal to Y\\X {Y-X}')\n",
    "print(f'The Difference of X\\Y\\Z={X.difference(Y,Z)}')"
   ]
  },
  {
   "cell_type": "code",
   "execution_count": 127,
   "id": "backed-crystal",
   "metadata": {},
   "outputs": [
    {
     "name": "stdout",
     "output_type": "stream",
     "text": [
      "['Frontal', 'Parietal', 'Occipital', 'Temporal']\n"
     ]
    }
   ],
   "source": [
    "brain_lobes = ['Frontal',\n",
    "               'Parietal',\n",
    "               'Occipital',\n",
    "               'Temporal']\n",
    "print(brain_lobes)"
   ]
  },
  {
   "cell_type": "code",
   "execution_count": 128,
   "id": "essential-material",
   "metadata": {},
   "outputs": [
    {
     "ename": "IndentationError",
     "evalue": "unexpected indent (<ipython-input-128-dc03b7fa51d4>, line 2)",
     "output_type": "error",
     "traceback": [
      "\u001b[0;36m  File \u001b[0;32m\"<ipython-input-128-dc03b7fa51d4>\"\u001b[0;36m, line \u001b[0;32m2\u001b[0m\n\u001b[0;31m    print(brain_lobes[0])\u001b[0m\n\u001b[0m    ^\u001b[0m\n\u001b[0;31mIndentationError\u001b[0m\u001b[0;31m:\u001b[0m unexpected indent\n"
     ]
    }
   ],
   "source": [
    "print(brain_lobes[0])\n",
    "    print(brain_lobes[0])"
   ]
  },
  {
   "cell_type": "code",
   "execution_count": 129,
   "id": "concerned-cabinet",
   "metadata": {},
   "outputs": [
    {
     "name": "stdout",
     "output_type": "stream",
     "text": [
      "Rule 1 is True\n",
      "Only if Rule 1 is False go here\n"
     ]
    }
   ],
   "source": [
    "rule1 = True\n",
    "if rule1:\n",
    "    print(f'Rule 1 is {rule1}')\n",
    "rule1 = False    \n",
    "if not rule1:\n",
    "    print(f'Only if Rule 1 is {rule1} go here')\n",
    "else: \n",
    "    print(f\"Not Rule 1 is {not rule1}\")"
   ]
  },
  {
   "cell_type": "code",
   "execution_count": 130,
   "id": "norwegian-medicaid",
   "metadata": {},
   "outputs": [
    {
     "name": "stdout",
     "output_type": "stream",
     "text": [
      "Rule 1 is True\n"
     ]
    }
   ],
   "source": [
    "rule1 = True\n",
    "if rule1:\n",
    "    print(f'Rule 1 is {rule1}')"
   ]
  },
  {
   "cell_type": "code",
   "execution_count": 131,
   "id": "conceptual-talent",
   "metadata": {},
   "outputs": [],
   "source": [
    "rule1 = False\n",
    "if rule1:\n",
    "    print(f'Rule 1 is {rule1}')"
   ]
  },
  {
   "cell_type": "code",
   "execution_count": 132,
   "id": "fiscal-encyclopedia",
   "metadata": {},
   "outputs": [
    {
     "name": "stdout",
     "output_type": "stream",
     "text": [
      "Only if Rule 1 is False go here\n"
     ]
    }
   ],
   "source": [
    "rule1 = False    \n",
    "if not rule1:\n",
    "    print(f'Only if Rule 1 is {rule1} go here')\n",
    "else: \n",
    "    print(f\"Not Rule 1 is {not rule1}\")"
   ]
  },
  {
   "cell_type": "code",
   "execution_count": 133,
   "id": "younger-canberra",
   "metadata": {},
   "outputs": [
    {
     "name": "stdout",
     "output_type": "stream",
     "text": [
      "Only if Rule 2 is False go here\n"
     ]
    }
   ],
   "source": [
    "rule1,rule2 = True,False    \n",
    "if not rule1:\n",
    "    print(f'Only if Rule 1 is {rule1} go here')\n",
    "elif not rule2:\n",
    "    print(f'Only if Rule 2 is {rule2} go here')\n",
    "else: \n",
    "    print(f\"Not Rule 1 is {not rule1}\")"
   ]
  },
  {
   "cell_type": "code",
   "execution_count": 134,
   "id": "certified-twenty",
   "metadata": {},
   "outputs": [
    {
     "name": "stdout",
     "output_type": "stream",
     "text": [
      "if your age is 13 then it is True that you are a teen\n"
     ]
    }
   ],
   "source": [
    "age = 13\n",
    "teen = True if age>=13 and age <=18 else False\n",
    "print(f'if your age is {age} then it is {teen} that you are a teen')"
   ]
  },
  {
   "cell_type": "code",
   "execution_count": 135,
   "id": "hollywood-aviation",
   "metadata": {},
   "outputs": [
    {
     "name": "stdout",
     "output_type": "stream",
     "text": [
      "30|31|32|33|34|35|36|37|38|39|40|41|42|43|44|45|46|47|48|49|\n",
      "\n",
      "Done !!\n"
     ]
    }
   ],
   "source": [
    "counter = 30\n",
    "while counter>0 and counter<50:\n",
    "    print(f'{counter}',end='|')\n",
    "    counter += 1\n",
    "else: \n",
    "    print(f'\\n\\nDone !!')"
   ]
  },
  {
   "cell_type": "code",
   "execution_count": 141,
   "id": "foster-theology",
   "metadata": {},
   "outputs": [
    {
     "name": "stdout",
     "output_type": "stream",
     "text": [
      "f(-5)=5.000\n",
      "f(-4)=-1.333\n",
      "f(-3)=3.000\n",
      "f(-2)=-0.667\n",
      "f(-1)=1.000\n",
      "f(0)=0.000\n",
      "f(2)=0.667\n",
      "f(4)=1.333\n"
     ]
    }
   ],
   "source": [
    "for num in range(-5,5):\n",
    "    if not num % 2: # Even numbers are divided by 3\n",
    "        print(f'f({num})={num/3:.3f}')\n",
    "    elif num<0: # odd negative numberes become positive\n",
    "        print(f'f({num})={(num**2)**.5:.3f}')\n",
    "    else: # Otherwise, I still haven't decided \n",
    "        pass"
   ]
  },
  {
   "cell_type": "code",
   "execution_count": 143,
   "id": "exposed-receptor",
   "metadata": {},
   "outputs": [
    {
     "name": "stdout",
     "output_type": "stream",
     "text": [
      "240 in Hexadecimal is f0\n",
      "240 in octal is 360\n",
      "240 in scientific is 2.400000e+02\n",
      "240 in binary is 11110000\n",
      "240 in integer is 0xf0\n"
     ]
    }
   ],
   "source": [
    "some_number = 240\n",
    "\n",
    "print(f\"{some_number} in octal is {some_number:o}\")\n",
    "print(f\"{some_number} in scientific is {some_number:e}\") \n",
    "print(f\"{some_number} in binary is {some_number:>08b}\")\n",
    "print(f\"{some_number} in Hexadecimal is {some_number:#0x}\")"
   ]
  },
  {
   "cell_type": "code",
   "execution_count": null,
   "id": "miniature-panel",
   "metadata": {},
   "outputs": [],
   "source": []
  }
 ],
 "metadata": {
  "kernelspec": {
   "display_name": "Python 3.8.8 64-bit (conda)",
   "language": "python",
   "name": "python388jvsc74a57bd04cd448bc6f47fe8e68c229701d0f0b58ac0b9be07aed87462852745482c2989b"
  },
  "language_info": {
   "codemirror_mode": {
    "name": "ipython",
    "version": 3
   },
   "file_extension": ".py",
   "mimetype": "text/x-python",
   "name": "python",
   "nbconvert_exporter": "python",
   "pygments_lexer": "ipython3",
   "version": "3.8.8"
  }
 },
 "nbformat": 4,
 "nbformat_minor": 5
}
