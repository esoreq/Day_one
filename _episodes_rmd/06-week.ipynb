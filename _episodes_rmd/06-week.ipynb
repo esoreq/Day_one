{
 "cells": [
  {
   "cell_type": "code",
   "execution_count": null,
   "metadata": {},
   "outputs": [],
   "source": [
    "import numpy as np\n",
    "import matplotlib.pyplot as plt\n",
    "import io\n",
    "\n",
    "def fig2matrix(fig, DPI=72):\n",
    "    io_buffer = io.BytesIO()\n",
    "    fig.savefig(io_buffer, format='raw', dpi=DPI)\n",
    "    io_buffer.seek(0)\n",
    "    raw_shape = np.frombuffer(io_buffer.getvalue(), dtype=np.uint8)\n",
    "    io_buffer.close()\n",
    "    fig_bounds = (int(fig.bbox.bounds[3]), int(fig.bbox.bounds[2]), -1)\n",
    "    img_arr = np.reshape(raw_shape, newshape=fig_bounds)\n",
    "    return img_arr\n"
   ]
  }
 ],
 "metadata": {
  "interpreter": {
   "hash": "dca0ade3e726a953b501b15e8e990130d2b7799f14cfd9f4271676035ebe5511"
  },
  "kernelspec": {
   "display_name": "Python 3.7.9 64-bit ('base': conda)",
   "name": "python3"
  },
  "language_info": {
   "name": "python",
   "version": ""
  },
  "orig_nbformat": 4
 },
 "nbformat": 4,
 "nbformat_minor": 2
}