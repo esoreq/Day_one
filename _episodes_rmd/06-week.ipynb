{
 "cells": [
  {
   "cell_type": "code",
   "execution_count": 2,
   "metadata": {},
   "outputs": [],
   "source": [
    "import numpy as np\n",
    "import matplotlib.pyplot as plt\n",
    "import io\n",
    "\n",
    "def fig2matrix(fig, DPI=72):\n",
    "    io_buffer = io.BytesIO()\n",
    "    fig.savefig(io_buffer, format='raw', dpi=DPI)\n",
    "    io_buffer.seek(0)\n",
    "    raw_shape = np.frombuffer(io_buffer.getvalue(), dtype=np.uint8)\n",
    "    io_buffer.close()\n",
    "    fig_bounds = (int(fig.bbox.bounds[3]), int(fig.bbox.bounds[2]), -1)\n",
    "    img_arr = np.reshape(raw_shape, newshape=fig_bounds)\n",
    "    return img_arr\n"
   ]
  },
  {
   "cell_type": "markdown",
   "metadata": {},
   "source": [
    "And defined it as the sum of the sample devided by the number of observed elements\n",
    "$$ \\mu =\\bar{x} = \\frac{1}{n} \\sum_{i=1}^n x_i $$\n",
    "\n",
    "\n",
    "According to Nature (http://www.nature.com/articles/s41598-019-55432-z#data-availability) almost all females have a foot size smaller than 280mm[1].\n",
    "In men, the probability of having a foot size larger than 280 is around 0.3, as you can see from this recent study that analyzed 1.2 million foot scans.\n",
    "![](https://media.springernature.com/lw685/springer-static/image/art%3A10.1038%2Fs41598-019-55432-z/MediaObjects/41598_2019_55432_Fig2_HTML.png?as=webp)\n"
   ]
  },
  {
   "cell_type": "markdown",
   "metadata": {},
   "source": [
    "\n",
    "$$ P(FL>fl|M) \\neq P(FL>fl|F) $$\n",
    " the conditional probability of foot size for males is different than females\n",
    "$$ var(\\widehat\\theta)=E[(\\widehat\\theta-E[\\widehat\\theta])^2 $$"
   ]
  },
  {
   "cell_type": "markdown",
   "metadata": {},
   "source": [
    "Variance is the expectation of the squared deviation of a random variable from its mean.\n",
    "In other words, it measures how far a set of numbers is spread out from their average value.  \n",
    "$$ \\sigma^2 =  \\frac{\\sum_{i=1}^n(x_i-\\bar{x})^2} {n} $$"
   ]
  },
  {
   "cell_type": "code",
   "execution_count": 24,
   "metadata": {},
   "outputs": [
    {
     "data": {
      "text/plain": [
       "[(0.0, 0.25), (0.0, 0.25)]"
      ]
     },
     "execution_count": 24,
     "metadata": {},
     "output_type": "execute_result"
    },
    {
     "data": {
      "image/png": "[encoded data removed]",
      "text/plain": [
       "<Figure size 360x360 with 1 Axes>"
      ]
     },
     "metadata": {
      "needs_background": "light"
     },
     "output_type": "display_data"
    }
   ],
   "source": [
    "from PIL import Image, ImageDraw, ImageFont\n",
    "\n",
    "\n",
    "ax.text(0, 0, '‎😃', fontsize=200, fontname='Keyboard‎')\n",
    "ax.update({'xlim': (0, .25), 'ylim': (0, .25)})\n",
    "# ax.axis('off')\n"
   ]
  },
  {
   "cell_type": "code",
   "execution_count": 23,
   "metadata": {},
   "outputs": [
    {
     "data": {
      "text/html": [
       "<div style='column-count: 2;'><p>.Aqua Kana: <span style='font-family:.Aqua Kana; font-size: 24px;'>.Aqua Kana</p>\n",
       "<p>.Arabic UI Display: <span style='font-family:.Arabic UI Display; font-size: 24px;'>.Arabic UI Display</p>\n",
       "<p>.Arabic UI Text: <span style='font-family:.Arabic UI Text; font-size: 24px;'>.Arabic UI Text</p>\n",
       "<p>.Keyboard: <span style='font-family:.Keyboard; font-size: 24px;'>.Keyboard</p>\n",
       "<p>.New York: <span style='font-family:.New York; font-size: 24px;'>.New York</p>\n",
       "<p>.SF Compact: <span style='font-family:.SF Compact; font-size: 24px;'>.SF Compact</p>\n",
       "<p>.SF Compact Rounded: <span style='font-family:.SF Compact Rounded; font-size: 24px;'>.SF Compact Rounded</p>\n",
       "<p>.SF NS Mono: <span style='font-family:.SF NS Mono; font-size: 24px;'>.SF NS Mono</p>\n",
       "<p>.SF NS Rounded: <span style='font-family:.SF NS Rounded; font-size: 24px;'>.SF NS Rounded</p>\n",
       "<p>Academy Engraved LET: <span style='font-family:Academy Engraved LET; font-size: 24px;'>Academy Engraved LET</p>\n",
       "<p>Al Bayan: <span style='font-family:Al Bayan; font-size: 24px;'>Al Bayan</p>\n",
       "<p>Al Nile: <span style='font-family:Al Nile; font-size: 24px;'>Al Nile</p>\n",
       "<p>Al Tarikh: <span style='font-family:Al Tarikh; font-size: 24px;'>Al Tarikh</p>\n",
       "<p>American Typewriter: <span style='font-family:American Typewriter; font-size: 24px;'>American Typewriter</p>\n",
       "<p>Andale Mono: <span style='font-family:Andale Mono; font-size: 24px;'>Andale Mono</p>\n",
       "<p>Apple Braille: <span style='font-family:Apple Braille; font-size: 24px;'>Apple Braille</p>\n",
       "<p>Apple Chancery: <span style='font-family:Apple Chancery; font-size: 24px;'>Apple Chancery</p>\n",
       "<p>Apple LiGothic: <span style='font-family:Apple LiGothic; font-size: 24px;'>Apple LiGothic</p>\n",
       "<p>Apple SD Gothic Neo: <span style='font-family:Apple SD Gothic Neo; font-size: 24px;'>Apple SD Gothic Neo</p>\n",
       "<p>Apple Symbols: <span style='font-family:Apple Symbols; font-size: 24px;'>Apple Symbols</p>\n",
       "<p>AppleGothic: <span style='font-family:AppleGothic; font-size: 24px;'>AppleGothic</p>\n",
       "<p>AppleMyungjo: <span style='font-family:AppleMyungjo; font-size: 24px;'>AppleMyungjo</p>\n",
       "<p>Arial: <span style='font-family:Arial; font-size: 24px;'>Arial</p>\n",
       "<p>Arial Black: <span style='font-family:Arial Black; font-size: 24px;'>Arial Black</p>\n",
       "<p>Arial Hebrew: <span style='font-family:Arial Hebrew; font-size: 24px;'>Arial Hebrew</p>\n",
       "<p>Arial Narrow: <span style='font-family:Arial Narrow; font-size: 24px;'>Arial Narrow</p>\n",
       "<p>Arial Rounded MT Bold: <span style='font-family:Arial Rounded MT Bold; font-size: 24px;'>Arial Rounded MT Bold</p>\n",
       "<p>Arial Unicode MS: <span style='font-family:Arial Unicode MS; font-size: 24px;'>Arial Unicode MS</p>\n",
       "<p>Athelas: <span style='font-family:Athelas; font-size: 24px;'>Athelas</p>\n",
       "<p>Avenir: <span style='font-family:Avenir; font-size: 24px;'>Avenir</p>\n",
       "<p>Avenir Next: <span style='font-family:Avenir Next; font-size: 24px;'>Avenir Next</p>\n",
       "<p>Avenir Next Condensed: <span style='font-family:Avenir Next Condensed; font-size: 24px;'>Avenir Next Condensed</p>\n",
       "<p>Ayuthaya: <span style='font-family:Ayuthaya; font-size: 24px;'>Ayuthaya</p>\n",
       "<p>Baghdad: <span style='font-family:Baghdad; font-size: 24px;'>Baghdad</p>\n",
       "<p>Baloo: <span style='font-family:Baloo; font-size: 24px;'>Baloo</p>\n",
       "<p>Baloo Bhai: <span style='font-family:Baloo Bhai; font-size: 24px;'>Baloo Bhai</p>\n",
       "<p>Baloo Bhaijaan: <span style='font-family:Baloo Bhaijaan; font-size: 24px;'>Baloo Bhaijaan</p>\n",
       "<p>Baloo Bhaina: <span style='font-family:Baloo Bhaina; font-size: 24px;'>Baloo Bhaina</p>\n",
       "<p>Baloo Chettan: <span style='font-family:Baloo Chettan; font-size: 24px;'>Baloo Chettan</p>\n",
       "<p>Baloo Da: <span style='font-family:Baloo Da; font-size: 24px;'>Baloo Da</p>\n",
       "<p>Baloo Paaji: <span style='font-family:Baloo Paaji; font-size: 24px;'>Baloo Paaji</p>\n",
       "<p>Baloo Tamma: <span style='font-family:Baloo Tamma; font-size: 24px;'>Baloo Tamma</p>\n",
       "<p>Baloo Tammudu: <span style='font-family:Baloo Tammudu; font-size: 24px;'>Baloo Tammudu</p>\n",
       "<p>Baloo Thambi: <span style='font-family:Baloo Thambi; font-size: 24px;'>Baloo Thambi</p>\n",
       "<p>Bangla MN: <span style='font-family:Bangla MN; font-size: 24px;'>Bangla MN</p>\n",
       "<p>Bangla Sangam MN: <span style='font-family:Bangla Sangam MN; font-size: 24px;'>Bangla Sangam MN</p>\n",
       "<p>Baoli SC: <span style='font-family:Baoli SC; font-size: 24px;'>Baoli SC</p>\n",
       "<p>Baskerville: <span style='font-family:Baskerville; font-size: 24px;'>Baskerville</p>\n",
       "<p>Beirut: <span style='font-family:Beirut; font-size: 24px;'>Beirut</p>\n",
       "<p>BiauKai: <span style='font-family:BiauKai; font-size: 24px;'>BiauKai</p>\n",
       "<p>Big Caslon: <span style='font-family:Big Caslon; font-size: 24px;'>Big Caslon</p>\n",
       "<p>Bodoni 72: <span style='font-family:Bodoni 72; font-size: 24px;'>Bodoni 72</p>\n",
       "<p>Bodoni 72 Oldstyle: <span style='font-family:Bodoni 72 Oldstyle; font-size: 24px;'>Bodoni 72 Oldstyle</p>\n",
       "<p>Bodoni 72 Smallcaps: <span style='font-family:Bodoni 72 Smallcaps; font-size: 24px;'>Bodoni 72 Smallcaps</p>\n",
       "<p>Bodoni Ornaments: <span style='font-family:Bodoni Ornaments; font-size: 24px;'>Bodoni Ornaments</p>\n",
       "<p>Bradley Hand: <span style='font-family:Bradley Hand; font-size: 24px;'>Bradley Hand</p>\n",
       "<p>Brush Script MT: <span style='font-family:Brush Script MT; font-size: 24px;'>Brush Script MT</p>\n",
       "<p>Cambay Devanagari: <span style='font-family:Cambay Devanagari; font-size: 24px;'>Cambay Devanagari</p>\n",
       "<p>Chalkboard: <span style='font-family:Chalkboard; font-size: 24px;'>Chalkboard</p>\n",
       "<p>Chalkboard SE: <span style='font-family:Chalkboard SE; font-size: 24px;'>Chalkboard SE</p>\n",
       "<p>Chalkduster: <span style='font-family:Chalkduster; font-size: 24px;'>Chalkduster</p>\n",
       "<p>Charter: <span style='font-family:Charter; font-size: 24px;'>Charter</p>\n",
       "<p>Cochin: <span style='font-family:Cochin; font-size: 24px;'>Cochin</p>\n",
       "<p>Comic Sans MS: <span style='font-family:Comic Sans MS; font-size: 24px;'>Comic Sans MS</p>\n",
       "<p>Copperplate: <span style='font-family:Copperplate; font-size: 24px;'>Copperplate</p>\n",
       "<p>Corsiva Hebrew: <span style='font-family:Corsiva Hebrew; font-size: 24px;'>Corsiva Hebrew</p>\n",
       "<p>Courier New: <span style='font-family:Courier New; font-size: 24px;'>Courier New</p>\n",
       "<p>DIN Alternate: <span style='font-family:DIN Alternate; font-size: 24px;'>DIN Alternate</p>\n",
       "<p>DIN Condensed: <span style='font-family:DIN Condensed; font-size: 24px;'>DIN Condensed</p>\n",
       "<p>Damascus: <span style='font-family:Damascus; font-size: 24px;'>Damascus</p>\n",
       "<p>DecoType Naskh: <span style='font-family:DecoType Naskh; font-size: 24px;'>DecoType Naskh</p>\n",
       "<p>DejaVu Sans: <span style='font-family:DejaVu Sans; font-size: 24px;'>DejaVu Sans</p>\n",
       "<p>DejaVu Sans Display: <span style='font-family:DejaVu Sans Display; font-size: 24px;'>DejaVu Sans Display</p>\n",
       "<p>DejaVu Sans Mono: <span style='font-family:DejaVu Sans Mono; font-size: 24px;'>DejaVu Sans Mono</p>\n",
       "<p>DejaVu Serif: <span style='font-family:DejaVu Serif; font-size: 24px;'>DejaVu Serif</p>\n",
       "<p>DejaVu Serif Display: <span style='font-family:DejaVu Serif Display; font-size: 24px;'>DejaVu Serif Display</p>\n",
       "<p>Devanagari MT: <span style='font-family:Devanagari MT; font-size: 24px;'>Devanagari MT</p>\n",
       "<p>Devanagari Sangam MN: <span style='font-family:Devanagari Sangam MN; font-size: 24px;'>Devanagari Sangam MN</p>\n",
       "<p>Didot: <span style='font-family:Didot; font-size: 24px;'>Didot</p>\n",
       "<p>Diwan Kufi: <span style='font-family:Diwan Kufi; font-size: 24px;'>Diwan Kufi</p>\n",
       "<p>Diwan Thuluth: <span style='font-family:Diwan Thuluth; font-size: 24px;'>Diwan Thuluth</p>\n",
       "<p>Euphemia UCAS: <span style='font-family:Euphemia UCAS; font-size: 24px;'>Euphemia UCAS</p>\n",
       "<p>FS Untitled: <span style='font-family:FS Untitled; font-size: 24px;'>FS Untitled</p>\n",
       "<p>Farah: <span style='font-family:Farah; font-size: 24px;'>Farah</p>\n",
       "<p>Farisi: <span style='font-family:Farisi; font-size: 24px;'>Farisi</p>\n",
       "<p>Futura: <span style='font-family:Futura; font-size: 24px;'>Futura</p>\n",
       "<p>Galvji: <span style='font-family:Galvji; font-size: 24px;'>Galvji</p>\n",
       "<p>Geeza Pro: <span style='font-family:Geeza Pro; font-size: 24px;'>Geeza Pro</p>\n",
       "<p>Georgia: <span style='font-family:Georgia; font-size: 24px;'>Georgia</p>\n",
       "<p>Gill Sans: <span style='font-family:Gill Sans; font-size: 24px;'>Gill Sans</p>\n",
       "<p>Gotu: <span style='font-family:Gotu; font-size: 24px;'>Gotu</p>\n",
       "<p>Gujarati MT: <span style='font-family:Gujarati MT; font-size: 24px;'>Gujarati MT</p>\n",
       "<p>Gujarati Sangam MN: <span style='font-family:Gujarati Sangam MN; font-size: 24px;'>Gujarati Sangam MN</p>\n",
       "<p>GungSeo: <span style='font-family:GungSeo; font-size: 24px;'>GungSeo</p>\n",
       "<p>Gurmukhi MN: <span style='font-family:Gurmukhi MN; font-size: 24px;'>Gurmukhi MN</p>\n",
       "<p>Gurmukhi MT: <span style='font-family:Gurmukhi MT; font-size: 24px;'>Gurmukhi MT</p>\n",
       "<p>Gurmukhi Sangam MN: <span style='font-family:Gurmukhi Sangam MN; font-size: 24px;'>Gurmukhi Sangam MN</p>\n",
       "<p>Hannotate SC: <span style='font-family:Hannotate SC; font-size: 24px;'>Hannotate SC</p>\n",
       "<p>HanziPen SC: <span style='font-family:HanziPen SC; font-size: 24px;'>HanziPen SC</p>\n",
       "<p>HeadLineA: <span style='font-family:HeadLineA; font-size: 24px;'>HeadLineA</p>\n",
       "<p>Hei: <span style='font-family:Hei; font-size: 24px;'>Hei</p>\n",
       "<p>Heiti TC: <span style='font-family:Heiti TC; font-size: 24px;'>Heiti TC</p>\n",
       "<p>Helvetica: <span style='font-family:Helvetica; font-size: 24px;'>Helvetica</p>\n",
       "<p>Helvetica Neue: <span style='font-family:Helvetica Neue; font-size: 24px;'>Helvetica Neue</p>\n",
       "<p>Herculanum: <span style='font-family:Herculanum; font-size: 24px;'>Herculanum</p>\n",
       "<p>Hiragino Maru Gothic Pro: <span style='font-family:Hiragino Maru Gothic Pro; font-size: 24px;'>Hiragino Maru Gothic Pro</p>\n",
       "<p>Hiragino Mincho ProN: <span style='font-family:Hiragino Mincho ProN; font-size: 24px;'>Hiragino Mincho ProN</p>\n",
       "<p>Hiragino Sans: <span style='font-family:Hiragino Sans; font-size: 24px;'>Hiragino Sans</p>\n",
       "<p>Hiragino Sans CNS: <span style='font-family:Hiragino Sans CNS; font-size: 24px;'>Hiragino Sans CNS</p>\n",
       "<p>Hiragino Sans GB: <span style='font-family:Hiragino Sans GB; font-size: 24px;'>Hiragino Sans GB</p>\n",
       "<p>Hoefler Text: <span style='font-family:Hoefler Text; font-size: 24px;'>Hoefler Text</p>\n",
       "<p>ITF Devanagari: <span style='font-family:ITF Devanagari; font-size: 24px;'>ITF Devanagari</p>\n",
       "<p>Impact: <span style='font-family:Impact; font-size: 24px;'>Impact</p>\n",
       "<p>InaiMathi: <span style='font-family:InaiMathi; font-size: 24px;'>InaiMathi</p>\n",
       "<p>Iowan Old Style: <span style='font-family:Iowan Old Style; font-size: 24px;'>Iowan Old Style</p>\n",
       "<p>Jaini: <span style='font-family:Jaini; font-size: 24px;'>Jaini</p>\n",
       "<p>Jaini Purva: <span style='font-family:Jaini Purva; font-size: 24px;'>Jaini Purva</p>\n",
       "<p>Kai: <span style='font-family:Kai; font-size: 24px;'>Kai</p>\n",
       "<p>Kailasa: <span style='font-family:Kailasa; font-size: 24px;'>Kailasa</p>\n",
       "<p>Kaiti SC: <span style='font-family:Kaiti SC; font-size: 24px;'>Kaiti SC</p>\n",
       "<p>Kannada MN: <span style='font-family:Kannada MN; font-size: 24px;'>Kannada MN</p>\n",
       "<p>Kannada Sangam MN: <span style='font-family:Kannada Sangam MN; font-size: 24px;'>Kannada Sangam MN</p>\n",
       "<p>Kefa: <span style='font-family:Kefa; font-size: 24px;'>Kefa</p>\n",
       "<p>Khmer MN: <span style='font-family:Khmer MN; font-size: 24px;'>Khmer MN</p>\n",
       "<p>Khmer Sangam MN: <span style='font-family:Khmer Sangam MN; font-size: 24px;'>Khmer Sangam MN</p>\n",
       "<p>Klee: <span style='font-family:Klee; font-size: 24px;'>Klee</p>\n",
       "<p>Kohinoor Bangla: <span style='font-family:Kohinoor Bangla; font-size: 24px;'>Kohinoor Bangla</p>\n",
       "<p>Kohinoor Devanagari: <span style='font-family:Kohinoor Devanagari; font-size: 24px;'>Kohinoor Devanagari</p>\n",
       "<p>Kohinoor Gujarati: <span style='font-family:Kohinoor Gujarati; font-size: 24px;'>Kohinoor Gujarati</p>\n",
       "<p>Kohinoor Telugu: <span style='font-family:Kohinoor Telugu; font-size: 24px;'>Kohinoor Telugu</p>\n",
       "<p>Kokonor: <span style='font-family:Kokonor; font-size: 24px;'>Kokonor</p>\n",
       "<p>Krungthep: <span style='font-family:Krungthep; font-size: 24px;'>Krungthep</p>\n",
       "<p>KufiStandardGK: <span style='font-family:KufiStandardGK; font-size: 24px;'>KufiStandardGK</p>\n",
       "<p>Lahore Gurmukhi: <span style='font-family:Lahore Gurmukhi; font-size: 24px;'>Lahore Gurmukhi</p>\n",
       "<p>Lantinghei SC: <span style='font-family:Lantinghei SC; font-size: 24px;'>Lantinghei SC</p>\n",
       "<p>Lao MN: <span style='font-family:Lao MN; font-size: 24px;'>Lao MN</p>\n",
       "<p>Lao Sangam MN: <span style='font-family:Lao Sangam MN; font-size: 24px;'>Lao Sangam MN</p>\n",
       "<p>LiHei Pro: <span style='font-family:LiHei Pro; font-size: 24px;'>LiHei Pro</p>\n",
       "<p>LiSong Pro: <span style='font-family:LiSong Pro; font-size: 24px;'>LiSong Pro</p>\n",
       "<p>Libian SC: <span style='font-family:Libian SC; font-size: 24px;'>Libian SC</p>\n",
       "<p>LingWai SC: <span style='font-family:LingWai SC; font-size: 24px;'>LingWai SC</p>\n",
       "<p>LingWai TC: <span style='font-family:LingWai TC; font-size: 24px;'>LingWai TC</p>\n",
       "<p>Lucida Grande: <span style='font-family:Lucida Grande; font-size: 24px;'>Lucida Grande</p>\n",
       "<p>Luminari: <span style='font-family:Luminari; font-size: 24px;'>Luminari</p>\n",
       "<p>Malayalam MN: <span style='font-family:Malayalam MN; font-size: 24px;'>Malayalam MN</p>\n",
       "<p>Malayalam Sangam MN: <span style='font-family:Malayalam Sangam MN; font-size: 24px;'>Malayalam Sangam MN</p>\n",
       "<p>Marion: <span style='font-family:Marion; font-size: 24px;'>Marion</p>\n",
       "<p>Marker Felt: <span style='font-family:Marker Felt; font-size: 24px;'>Marker Felt</p>\n",
       "<p>Menlo: <span style='font-family:Menlo; font-size: 24px;'>Menlo</p>\n",
       "<p>Microsoft Sans Serif: <span style='font-family:Microsoft Sans Serif; font-size: 24px;'>Microsoft Sans Serif</p>\n",
       "<p>Mishafi: <span style='font-family:Mishafi; font-size: 24px;'>Mishafi</p>\n",
       "<p>Mishafi Gold: <span style='font-family:Mishafi Gold; font-size: 24px;'>Mishafi Gold</p>\n",
       "<p>Modak: <span style='font-family:Modak; font-size: 24px;'>Modak</p>\n",
       "<p>Mshtakan: <span style='font-family:Mshtakan; font-size: 24px;'>Mshtakan</p>\n",
       "<p>Mukta: <span style='font-family:Mukta; font-size: 24px;'>Mukta</p>\n",
       "<p>Mukta Mahee: <span style='font-family:Mukta Mahee; font-size: 24px;'>Mukta Mahee</p>\n",
       "<p>Mukta Malar: <span style='font-family:Mukta Malar; font-size: 24px;'>Mukta Malar</p>\n",
       "<p>Mukta Vaani: <span style='font-family:Mukta Vaani; font-size: 24px;'>Mukta Vaani</p>\n",
       "<p>Muna: <span style='font-family:Muna; font-size: 24px;'>Muna</p>\n",
       "<p>Myanmar MN: <span style='font-family:Myanmar MN; font-size: 24px;'>Myanmar MN</p>\n",
       "<p>Myanmar Sangam MN: <span style='font-family:Myanmar Sangam MN; font-size: 24px;'>Myanmar Sangam MN</p>\n",
       "<p>Nadeem: <span style='font-family:Nadeem; font-size: 24px;'>Nadeem</p>\n",
       "<p>Nanum Brush Script: <span style='font-family:Nanum Brush Script; font-size: 24px;'>Nanum Brush Script</p>\n",
       "<p>Nanum Gothic: <span style='font-family:Nanum Gothic; font-size: 24px;'>Nanum Gothic</p>\n",
       "<p>Nanum Myeongjo: <span style='font-family:Nanum Myeongjo; font-size: 24px;'>Nanum Myeongjo</p>\n",
       "<p>New Peninim MT: <span style='font-family:New Peninim MT; font-size: 24px;'>New Peninim MT</p>\n",
       "<p>Noteworthy: <span style='font-family:Noteworthy; font-size: 24px;'>Noteworthy</p>\n",
       "<p>Noto Nastaliq Urdu: <span style='font-family:Noto Nastaliq Urdu; font-size: 24px;'>Noto Nastaliq Urdu</p>\n",
       "<p>Noto Sans Adlam: <span style='font-family:Noto Sans Adlam; font-size: 24px;'>Noto Sans Adlam</p>\n",
       "<p>Noto Sans Armenian: <span style='font-family:Noto Sans Armenian; font-size: 24px;'>Noto Sans Armenian</p>\n",
       "<p>Noto Sans Avestan: <span style='font-family:Noto Sans Avestan; font-size: 24px;'>Noto Sans Avestan</p>\n",
       "<p>Noto Sans Bamum: <span style='font-family:Noto Sans Bamum; font-size: 24px;'>Noto Sans Bamum</p>\n",
       "<p>Noto Sans Bassa Vah: <span style='font-family:Noto Sans Bassa Vah; font-size: 24px;'>Noto Sans Bassa Vah</p>\n",
       "<p>Noto Sans Batak: <span style='font-family:Noto Sans Batak; font-size: 24px;'>Noto Sans Batak</p>\n",
       "<p>Noto Sans Bhaiksuki: <span style='font-family:Noto Sans Bhaiksuki; font-size: 24px;'>Noto Sans Bhaiksuki</p>\n",
       "<p>Noto Sans Brahmi: <span style='font-family:Noto Sans Brahmi; font-size: 24px;'>Noto Sans Brahmi</p>\n",
       "<p>Noto Sans Buginese: <span style='font-family:Noto Sans Buginese; font-size: 24px;'>Noto Sans Buginese</p>\n",
       "<p>Noto Sans Buhid: <span style='font-family:Noto Sans Buhid; font-size: 24px;'>Noto Sans Buhid</p>\n",
       "<p>Noto Sans Carian: <span style='font-family:Noto Sans Carian; font-size: 24px;'>Noto Sans Carian</p>\n",
       "<p>Noto Sans Caucasian Albanian: <span style='font-family:Noto Sans Caucasian Albanian; font-size: 24px;'>Noto Sans Caucasian Albanian</p>\n",
       "<p>Noto Sans Chakma: <span style='font-family:Noto Sans Chakma; font-size: 24px;'>Noto Sans Chakma</p>\n",
       "<p>Noto Sans Cham: <span style='font-family:Noto Sans Cham; font-size: 24px;'>Noto Sans Cham</p>\n",
       "<p>Noto Sans Coptic: <span style='font-family:Noto Sans Coptic; font-size: 24px;'>Noto Sans Coptic</p>\n",
       "<p>Noto Sans Cuneiform: <span style='font-family:Noto Sans Cuneiform; font-size: 24px;'>Noto Sans Cuneiform</p>\n",
       "<p>Noto Sans Cypriot: <span style='font-family:Noto Sans Cypriot; font-size: 24px;'>Noto Sans Cypriot</p>\n",
       "<p>Noto Sans Duployan: <span style='font-family:Noto Sans Duployan; font-size: 24px;'>Noto Sans Duployan</p>\n",
       "<p>Noto Sans Egyptian Hieroglyphs: <span style='font-family:Noto Sans Egyptian Hieroglyphs; font-size: 24px;'>Noto Sans Egyptian Hieroglyphs</p>\n",
       "<p>Noto Sans Elbasan: <span style='font-family:Noto Sans Elbasan; font-size: 24px;'>Noto Sans Elbasan</p>\n",
       "<p>Noto Sans Glagolitic: <span style='font-family:Noto Sans Glagolitic; font-size: 24px;'>Noto Sans Glagolitic</p>\n",
       "<p>Noto Sans Gothic: <span style='font-family:Noto Sans Gothic; font-size: 24px;'>Noto Sans Gothic</p>\n",
       "<p>Noto Sans Hanifi Rohingya: <span style='font-family:Noto Sans Hanifi Rohingya; font-size: 24px;'>Noto Sans Hanifi Rohingya</p>\n",
       "<p>Noto Sans Hanunoo: <span style='font-family:Noto Sans Hanunoo; font-size: 24px;'>Noto Sans Hanunoo</p>\n",
       "<p>Noto Sans Hatran: <span style='font-family:Noto Sans Hatran; font-size: 24px;'>Noto Sans Hatran</p>\n",
       "<p>Noto Sans Imperial Aramaic: <span style='font-family:Noto Sans Imperial Aramaic; font-size: 24px;'>Noto Sans Imperial Aramaic</p>\n",
       "<p>Noto Sans Inscriptional Pahlavi: <span style='font-family:Noto Sans Inscriptional Pahlavi; font-size: 24px;'>Noto Sans Inscriptional Pahlavi</p>\n",
       "<p>Noto Sans Inscriptional Parthian: <span style='font-family:Noto Sans Inscriptional Parthian; font-size: 24px;'>Noto Sans Inscriptional Parthian</p>\n",
       "<p>Noto Sans Javanese: <span style='font-family:Noto Sans Javanese; font-size: 24px;'>Noto Sans Javanese</p>\n",
       "<p>Noto Sans Kaithi: <span style='font-family:Noto Sans Kaithi; font-size: 24px;'>Noto Sans Kaithi</p>\n",
       "<p>Noto Sans Kannada: <span style='font-family:Noto Sans Kannada; font-size: 24px;'>Noto Sans Kannada</p>\n",
       "<p>Noto Sans Kayah Li: <span style='font-family:Noto Sans Kayah Li; font-size: 24px;'>Noto Sans Kayah Li</p>\n",
       "<p>Noto Sans Kharoshthi: <span style='font-family:Noto Sans Kharoshthi; font-size: 24px;'>Noto Sans Kharoshthi</p>\n",
       "<p>Noto Sans Khojki: <span style='font-family:Noto Sans Khojki; font-size: 24px;'>Noto Sans Khojki</p>\n",
       "<p>Noto Sans Khudawadi: <span style='font-family:Noto Sans Khudawadi; font-size: 24px;'>Noto Sans Khudawadi</p>\n",
       "<p>Noto Sans Lepcha: <span style='font-family:Noto Sans Lepcha; font-size: 24px;'>Noto Sans Lepcha</p>\n",
       "<p>Noto Sans Limbu: <span style='font-family:Noto Sans Limbu; font-size: 24px;'>Noto Sans Limbu</p>\n",
       "<p>Noto Sans Linear A: <span style='font-family:Noto Sans Linear A; font-size: 24px;'>Noto Sans Linear A</p>\n",
       "<p>Noto Sans Linear B: <span style='font-family:Noto Sans Linear B; font-size: 24px;'>Noto Sans Linear B</p>\n",
       "<p>Noto Sans Lisu: <span style='font-family:Noto Sans Lisu; font-size: 24px;'>Noto Sans Lisu</p>\n",
       "<p>Noto Sans Lycian: <span style='font-family:Noto Sans Lycian; font-size: 24px;'>Noto Sans Lycian</p>\n",
       "<p>Noto Sans Lydian: <span style='font-family:Noto Sans Lydian; font-size: 24px;'>Noto Sans Lydian</p>\n",
       "<p>Noto Sans Mahajani: <span style='font-family:Noto Sans Mahajani; font-size: 24px;'>Noto Sans Mahajani</p>\n",
       "<p>Noto Sans Mandaic: <span style='font-family:Noto Sans Mandaic; font-size: 24px;'>Noto Sans Mandaic</p>\n",
       "<p>Noto Sans Manichaean: <span style='font-family:Noto Sans Manichaean; font-size: 24px;'>Noto Sans Manichaean</p>\n",
       "<p>Noto Sans Marchen: <span style='font-family:Noto Sans Marchen; font-size: 24px;'>Noto Sans Marchen</p>\n",
       "<p>Noto Sans Meetei Mayek: <span style='font-family:Noto Sans Meetei Mayek; font-size: 24px;'>Noto Sans Meetei Mayek</p>\n",
       "<p>Noto Sans Mende Kikakui: <span style='font-family:Noto Sans Mende Kikakui; font-size: 24px;'>Noto Sans Mende Kikakui</p>\n",
       "<p>Noto Sans Meroitic: <span style='font-family:Noto Sans Meroitic; font-size: 24px;'>Noto Sans Meroitic</p>\n",
       "<p>Noto Sans Miao: <span style='font-family:Noto Sans Miao; font-size: 24px;'>Noto Sans Miao</p>\n",
       "<p>Noto Sans Modi: <span style='font-family:Noto Sans Modi; font-size: 24px;'>Noto Sans Modi</p>\n",
       "<p>Noto Sans Mongolian: <span style='font-family:Noto Sans Mongolian; font-size: 24px;'>Noto Sans Mongolian</p>\n",
       "<p>Noto Sans Mro: <span style='font-family:Noto Sans Mro; font-size: 24px;'>Noto Sans Mro</p>\n",
       "<p>Noto Sans Multani: <span style='font-family:Noto Sans Multani; font-size: 24px;'>Noto Sans Multani</p>\n",
       "<p>Noto Sans Myanmar: <span style='font-family:Noto Sans Myanmar; font-size: 24px;'>Noto Sans Myanmar</p>\n",
       "<p>Noto Sans NKo: <span style='font-family:Noto Sans NKo; font-size: 24px;'>Noto Sans NKo</p>\n",
       "<p>Noto Sans Nabataean: <span style='font-family:Noto Sans Nabataean; font-size: 24px;'>Noto Sans Nabataean</p>\n",
       "<p>Noto Sans New Tai Lue: <span style='font-family:Noto Sans New Tai Lue; font-size: 24px;'>Noto Sans New Tai Lue</p>\n",
       "<p>Noto Sans Newa: <span style='font-family:Noto Sans Newa; font-size: 24px;'>Noto Sans Newa</p>\n",
       "<p>Noto Sans Ogham: <span style='font-family:Noto Sans Ogham; font-size: 24px;'>Noto Sans Ogham</p>\n",
       "<p>Noto Sans Ol Chiki: <span style='font-family:Noto Sans Ol Chiki; font-size: 24px;'>Noto Sans Ol Chiki</p>\n",
       "<p>Noto Sans Old Hungarian: <span style='font-family:Noto Sans Old Hungarian; font-size: 24px;'>Noto Sans Old Hungarian</p>\n",
       "<p>Noto Sans Old Italic: <span style='font-family:Noto Sans Old Italic; font-size: 24px;'>Noto Sans Old Italic</p>\n",
       "<p>Noto Sans Old North Arabian: <span style='font-family:Noto Sans Old North Arabian; font-size: 24px;'>Noto Sans Old North Arabian</p>\n",
       "<p>Noto Sans Old Permic: <span style='font-family:Noto Sans Old Permic; font-size: 24px;'>Noto Sans Old Permic</p>\n",
       "<p>Noto Sans Old Persian: <span style='font-family:Noto Sans Old Persian; font-size: 24px;'>Noto Sans Old Persian</p>\n",
       "<p>Noto Sans Old South Arabian: <span style='font-family:Noto Sans Old South Arabian; font-size: 24px;'>Noto Sans Old South Arabian</p>\n",
       "<p>Noto Sans Old Turkic: <span style='font-family:Noto Sans Old Turkic; font-size: 24px;'>Noto Sans Old Turkic</p>\n",
       "<p>Noto Sans Oriya: <span style='font-family:Noto Sans Oriya; font-size: 24px;'>Noto Sans Oriya</p>\n",
       "<p>Noto Sans Osage: <span style='font-family:Noto Sans Osage; font-size: 24px;'>Noto Sans Osage</p>\n",
       "<p>Noto Sans Osmanya: <span style='font-family:Noto Sans Osmanya; font-size: 24px;'>Noto Sans Osmanya</p>\n",
       "<p>Noto Sans Pahawh Hmong: <span style='font-family:Noto Sans Pahawh Hmong; font-size: 24px;'>Noto Sans Pahawh Hmong</p>\n",
       "<p>Noto Sans Palmyrene: <span style='font-family:Noto Sans Palmyrene; font-size: 24px;'>Noto Sans Palmyrene</p>\n",
       "<p>Noto Sans Pau Cin Hau: <span style='font-family:Noto Sans Pau Cin Hau; font-size: 24px;'>Noto Sans Pau Cin Hau</p>\n",
       "<p>Noto Sans PhagsPa: <span style='font-family:Noto Sans PhagsPa; font-size: 24px;'>Noto Sans PhagsPa</p>\n",
       "<p>Noto Sans Phoenician: <span style='font-family:Noto Sans Phoenician; font-size: 24px;'>Noto Sans Phoenician</p>\n",
       "<p>Noto Sans Psalter Pahlavi: <span style='font-family:Noto Sans Psalter Pahlavi; font-size: 24px;'>Noto Sans Psalter Pahlavi</p>\n",
       "<p>Noto Sans Rejang: <span style='font-family:Noto Sans Rejang; font-size: 24px;'>Noto Sans Rejang</p>\n",
       "<p>Noto Sans Runic: <span style='font-family:Noto Sans Runic; font-size: 24px;'>Noto Sans Runic</p>\n",
       "<p>Noto Sans Samaritan: <span style='font-family:Noto Sans Samaritan; font-size: 24px;'>Noto Sans Samaritan</p>\n",
       "<p>Noto Sans Saurashtra: <span style='font-family:Noto Sans Saurashtra; font-size: 24px;'>Noto Sans Saurashtra</p>\n",
       "<p>Noto Sans Sharada: <span style='font-family:Noto Sans Sharada; font-size: 24px;'>Noto Sans Sharada</p>\n",
       "<p>Noto Sans Shavian: <span style='font-family:Noto Sans Shavian; font-size: 24px;'>Noto Sans Shavian</p>\n",
       "<p>Noto Sans Siddham: <span style='font-family:Noto Sans Siddham; font-size: 24px;'>Noto Sans Siddham</p>\n",
       "<p>Noto Sans Sora Sompeng: <span style='font-family:Noto Sans Sora Sompeng; font-size: 24px;'>Noto Sans Sora Sompeng</p>\n",
       "<p>Noto Sans Sundanese: <span style='font-family:Noto Sans Sundanese; font-size: 24px;'>Noto Sans Sundanese</p>\n",
       "<p>Noto Sans Syloti Nagri: <span style='font-family:Noto Sans Syloti Nagri; font-size: 24px;'>Noto Sans Syloti Nagri</p>\n",
       "<p>Noto Sans Syriac: <span style='font-family:Noto Sans Syriac; font-size: 24px;'>Noto Sans Syriac</p>\n",
       "<p>Noto Sans Tagalog: <span style='font-family:Noto Sans Tagalog; font-size: 24px;'>Noto Sans Tagalog</p>\n",
       "<p>Noto Sans Tagbanwa: <span style='font-family:Noto Sans Tagbanwa; font-size: 24px;'>Noto Sans Tagbanwa</p>\n",
       "<p>Noto Sans Tai Le: <span style='font-family:Noto Sans Tai Le; font-size: 24px;'>Noto Sans Tai Le</p>\n",
       "<p>Noto Sans Tai Tham: <span style='font-family:Noto Sans Tai Tham; font-size: 24px;'>Noto Sans Tai Tham</p>\n",
       "<p>Noto Sans Tai Viet: <span style='font-family:Noto Sans Tai Viet; font-size: 24px;'>Noto Sans Tai Viet</p>\n",
       "<p>Noto Sans Takri: <span style='font-family:Noto Sans Takri; font-size: 24px;'>Noto Sans Takri</p>\n",
       "<p>Noto Sans Thaana: <span style='font-family:Noto Sans Thaana; font-size: 24px;'>Noto Sans Thaana</p>\n",
       "<p>Noto Sans Tifinagh: <span style='font-family:Noto Sans Tifinagh; font-size: 24px;'>Noto Sans Tifinagh</p>\n",
       "<p>Noto Sans Tirhuta: <span style='font-family:Noto Sans Tirhuta; font-size: 24px;'>Noto Sans Tirhuta</p>\n",
       "<p>Noto Sans Ugaritic: <span style='font-family:Noto Sans Ugaritic; font-size: 24px;'>Noto Sans Ugaritic</p>\n",
       "<p>Noto Sans Vai: <span style='font-family:Noto Sans Vai; font-size: 24px;'>Noto Sans Vai</p>\n",
       "<p>Noto Sans Wancho: <span style='font-family:Noto Sans Wancho; font-size: 24px;'>Noto Sans Wancho</p>\n",
       "<p>Noto Sans Warang Citi: <span style='font-family:Noto Sans Warang Citi; font-size: 24px;'>Noto Sans Warang Citi</p>\n",
       "<p>Noto Sans Yi: <span style='font-family:Noto Sans Yi; font-size: 24px;'>Noto Sans Yi</p>\n",
       "<p>Noto Serif Ahom: <span style='font-family:Noto Serif Ahom; font-size: 24px;'>Noto Serif Ahom</p>\n",
       "<p>Noto Serif Balinese: <span style='font-family:Noto Serif Balinese; font-size: 24px;'>Noto Serif Balinese</p>\n",
       "<p>Noto Serif Kannada: <span style='font-family:Noto Serif Kannada; font-size: 24px;'>Noto Serif Kannada</p>\n",
       "<p>Noto Serif Myanmar: <span style='font-family:Noto Serif Myanmar; font-size: 24px;'>Noto Serif Myanmar</p>\n",
       "<p>Optima: <span style='font-family:Optima; font-size: 24px;'>Optima</p>\n",
       "<p>Oriya MN: <span style='font-family:Oriya MN; font-size: 24px;'>Oriya MN</p>\n",
       "<p>Oriya Sangam MN: <span style='font-family:Oriya Sangam MN; font-size: 24px;'>Oriya Sangam MN</p>\n",
       "<p>PCMyungjo: <span style='font-family:PCMyungjo; font-size: 24px;'>PCMyungjo</p>\n",
       "<p>PSL Ornanong Pro: <span style='font-family:PSL Ornanong Pro; font-size: 24px;'>PSL Ornanong Pro</p>\n",
       "<p>PT Mono: <span style='font-family:PT Mono; font-size: 24px;'>PT Mono</p>\n",
       "<p>PT Sans: <span style='font-family:PT Sans; font-size: 24px;'>PT Sans</p>\n",
       "<p>PT Serif: <span style='font-family:PT Serif; font-size: 24px;'>PT Serif</p>\n",
       "<p>PT Serif Caption: <span style='font-family:PT Serif Caption; font-size: 24px;'>PT Serif Caption</p>\n",
       "<p>Palatino: <span style='font-family:Palatino; font-size: 24px;'>Palatino</p>\n",
       "<p>Papyrus: <span style='font-family:Papyrus; font-size: 24px;'>Papyrus</p>\n",
       "<p>Party LET: <span style='font-family:Party LET; font-size: 24px;'>Party LET</p>\n",
       "<p>Phosphate: <span style='font-family:Phosphate; font-size: 24px;'>Phosphate</p>\n",
       "<p>PilGi: <span style='font-family:PilGi; font-size: 24px;'>PilGi</p>\n",
       "<p>PingFang HK: <span style='font-family:PingFang HK; font-size: 24px;'>PingFang HK</p>\n",
       "<p>Plantagenet Cherokee: <span style='font-family:Plantagenet Cherokee; font-size: 24px;'>Plantagenet Cherokee</p>\n",
       "<p>Raanana: <span style='font-family:Raanana; font-size: 24px;'>Raanana</p>\n",
       "<p>Rockwell: <span style='font-family:Rockwell; font-size: 24px;'>Rockwell</p>\n",
       "<p>STFangsong: <span style='font-family:STFangsong; font-size: 24px;'>STFangsong</p>\n",
       "<p>STHeiti: <span style='font-family:STHeiti; font-size: 24px;'>STHeiti</p>\n",
       "<p>STIXGeneral: <span style='font-family:STIXGeneral; font-size: 24px;'>STIXGeneral</p>\n",
       "<p>STIXIntegralsD: <span style='font-family:STIXIntegralsD; font-size: 24px;'>STIXIntegralsD</p>\n",
       "<p>STIXIntegralsSm: <span style='font-family:STIXIntegralsSm; font-size: 24px;'>STIXIntegralsSm</p>\n",
       "<p>STIXIntegralsUp: <span style='font-family:STIXIntegralsUp; font-size: 24px;'>STIXIntegralsUp</p>\n",
       "<p>STIXIntegralsUpD: <span style='font-family:STIXIntegralsUpD; font-size: 24px;'>STIXIntegralsUpD</p>\n",
       "<p>STIXIntegralsUpSm: <span style='font-family:STIXIntegralsUpSm; font-size: 24px;'>STIXIntegralsUpSm</p>\n",
       "<p>STIXNonUnicode: <span style='font-family:STIXNonUnicode; font-size: 24px;'>STIXNonUnicode</p>\n",
       "<p>STIXSizeFiveSym: <span style='font-family:STIXSizeFiveSym; font-size: 24px;'>STIXSizeFiveSym</p>\n",
       "<p>STIXSizeFourSym: <span style='font-family:STIXSizeFourSym; font-size: 24px;'>STIXSizeFourSym</p>\n",
       "<p>STIXSizeOneSym: <span style='font-family:STIXSizeOneSym; font-size: 24px;'>STIXSizeOneSym</p>\n",
       "<p>STIXSizeThreeSym: <span style='font-family:STIXSizeThreeSym; font-size: 24px;'>STIXSizeThreeSym</p>\n",
       "<p>STIXSizeTwoSym: <span style='font-family:STIXSizeTwoSym; font-size: 24px;'>STIXSizeTwoSym</p>\n",
       "<p>STIXVariants: <span style='font-family:STIXVariants; font-size: 24px;'>STIXVariants</p>\n",
       "<p>Sana: <span style='font-family:Sana; font-size: 24px;'>Sana</p>\n",
       "<p>Sathu: <span style='font-family:Sathu; font-size: 24px;'>Sathu</p>\n",
       "<p>Savoye LET: <span style='font-family:Savoye LET; font-size: 24px;'>Savoye LET</p>\n",
       "<p>Seravek: <span style='font-family:Seravek; font-size: 24px;'>Seravek</p>\n",
       "<p>Shobhika: <span style='font-family:Shobhika; font-size: 24px;'>Shobhika</p>\n",
       "<p>Shree Devanagari 714: <span style='font-family:Shree Devanagari 714; font-size: 24px;'>Shree Devanagari 714</p>\n",
       "<p>SignPainter: <span style='font-family:SignPainter; font-size: 24px;'>SignPainter</p>\n",
       "<p>Silom: <span style='font-family:Silom; font-size: 24px;'>Silom</p>\n",
       "<p>Sinhala MN: <span style='font-family:Sinhala MN; font-size: 24px;'>Sinhala MN</p>\n",
       "<p>Sinhala Sangam MN: <span style='font-family:Sinhala Sangam MN; font-size: 24px;'>Sinhala Sangam MN</p>\n",
       "<p>Skia: <span style='font-family:Skia; font-size: 24px;'>Skia</p>\n",
       "<p>Snell Roundhand: <span style='font-family:Snell Roundhand; font-size: 24px;'>Snell Roundhand</p>\n",
       "<p>Songti SC: <span style='font-family:Songti SC; font-size: 24px;'>Songti SC</p>\n",
       "<p>Sukhumvit Set: <span style='font-family:Sukhumvit Set; font-size: 24px;'>Sukhumvit Set</p>\n",
       "<p>Superclarendon: <span style='font-family:Superclarendon; font-size: 24px;'>Superclarendon</p>\n",
       "<p>Symbol: <span style='font-family:Symbol; font-size: 24px;'>Symbol</p>\n",
       "<p>System Font: <span style='font-family:System Font; font-size: 24px;'>System Font</p>\n",
       "<p>Tahoma: <span style='font-family:Tahoma; font-size: 24px;'>Tahoma</p>\n",
       "<p>Tamil MN: <span style='font-family:Tamil MN; font-size: 24px;'>Tamil MN</p>\n",
       "<p>Tamil Sangam MN: <span style='font-family:Tamil Sangam MN; font-size: 24px;'>Tamil Sangam MN</p>\n",
       "<p>Telugu MN: <span style='font-family:Telugu MN; font-size: 24px;'>Telugu MN</p>\n",
       "<p>Telugu Sangam MN: <span style='font-family:Telugu Sangam MN; font-size: 24px;'>Telugu Sangam MN</p>\n",
       "<p>Thonburi: <span style='font-family:Thonburi; font-size: 24px;'>Thonburi</p>\n",
       "<p>Times: <span style='font-family:Times; font-size: 24px;'>Times</p>\n",
       "<p>Times New Roman: <span style='font-family:Times New Roman; font-size: 24px;'>Times New Roman</p>\n",
       "<p>Tiro Hindi: <span style='font-family:Tiro Hindi; font-size: 24px;'>Tiro Hindi</p>\n",
       "<p>Tiro Marathi: <span style='font-family:Tiro Marathi; font-size: 24px;'>Tiro Marathi</p>\n",
       "<p>Tiro Sanskrit: <span style='font-family:Tiro Sanskrit; font-size: 24px;'>Tiro Sanskrit</p>\n",
       "<p>Toppan Bunkyu Gothic: <span style='font-family:Toppan Bunkyu Gothic; font-size: 24px;'>Toppan Bunkyu Gothic</p>\n",
       "<p>Toppan Bunkyu Midashi Gothic: <span style='font-family:Toppan Bunkyu Midashi Gothic; font-size: 24px;'>Toppan Bunkyu Midashi Gothic</p>\n",
       "<p>Toppan Bunkyu Midashi Mincho: <span style='font-family:Toppan Bunkyu Midashi Mincho; font-size: 24px;'>Toppan Bunkyu Midashi Mincho</p>\n",
       "<p>Toppan Bunkyu Mincho: <span style='font-family:Toppan Bunkyu Mincho; font-size: 24px;'>Toppan Bunkyu Mincho</p>\n",
       "<p>Trattatello: <span style='font-family:Trattatello; font-size: 24px;'>Trattatello</p>\n",
       "<p>Trebuchet MS: <span style='font-family:Trebuchet MS; font-size: 24px;'>Trebuchet MS</p>\n",
       "<p>Tsukushi A Round Gothic: <span style='font-family:Tsukushi A Round Gothic; font-size: 24px;'>Tsukushi A Round Gothic</p>\n",
       "<p>Tsukushi B Round Gothic: <span style='font-family:Tsukushi B Round Gothic; font-size: 24px;'>Tsukushi B Round Gothic</p>\n",
       "<p>Verdana: <span style='font-family:Verdana; font-size: 24px;'>Verdana</p>\n",
       "<p>Waseem: <span style='font-family:Waseem; font-size: 24px;'>Waseem</p>\n",
       "<p>Wawati SC: <span style='font-family:Wawati SC; font-size: 24px;'>Wawati SC</p>\n",
       "<p>Wawati TC: <span style='font-family:Wawati TC; font-size: 24px;'>Wawati TC</p>\n",
       "<p>Webdings: <span style='font-family:Webdings; font-size: 24px;'>Webdings</p>\n",
       "<p>Weibei SC: <span style='font-family:Weibei SC; font-size: 24px;'>Weibei SC</p>\n",
       "<p>Weibei TC: <span style='font-family:Weibei TC; font-size: 24px;'>Weibei TC</p>\n",
       "<p>Wingdings: <span style='font-family:Wingdings; font-size: 24px;'>Wingdings</p>\n",
       "<p>Wingdings 2: <span style='font-family:Wingdings 2; font-size: 24px;'>Wingdings 2</p>\n",
       "<p>Wingdings 3: <span style='font-family:Wingdings 3; font-size: 24px;'>Wingdings 3</p>\n",
       "<p>Xingkai SC: <span style='font-family:Xingkai SC; font-size: 24px;'>Xingkai SC</p>\n",
       "<p>YuGothic: <span style='font-family:YuGothic; font-size: 24px;'>YuGothic</p>\n",
       "<p>YuMincho: <span style='font-family:YuMincho; font-size: 24px;'>YuMincho</p>\n",
       "<p>Yuanti SC: <span style='font-family:Yuanti SC; font-size: 24px;'>Yuanti SC</p>\n",
       "<p>Yuppy SC: <span style='font-family:Yuppy SC; font-size: 24px;'>Yuppy SC</p>\n",
       "<p>Yuppy TC: <span style='font-family:Yuppy TC; font-size: 24px;'>Yuppy TC</p>\n",
       "<p>Zapf Dingbats: <span style='font-family:Zapf Dingbats; font-size: 24px;'>Zapf Dingbats</p>\n",
       "<p>Zapfino: <span style='font-family:Zapfino; font-size: 24px;'>Zapfino</p>\n",
       "<p>cmb10: <span style='font-family:cmb10; font-size: 24px;'>cmb10</p>\n",
       "<p>cmex10: <span style='font-family:cmex10; font-size: 24px;'>cmex10</p>\n",
       "<p>cmmi10: <span style='font-family:cmmi10; font-size: 24px;'>cmmi10</p>\n",
       "<p>cmr10: <span style='font-family:cmr10; font-size: 24px;'>cmr10</p>\n",
       "<p>cmss10: <span style='font-family:cmss10; font-size: 24px;'>cmss10</p>\n",
       "<p>cmsy10: <span style='font-family:cmsy10; font-size: 24px;'>cmsy10</p>\n",
       "<p>cmtt10: <span style='font-family:cmtt10; font-size: 24px;'>cmtt10</p></div>"
      ],
      "text/plain": [
       "<IPython.core.display.HTML object>"
      ]
     },
     "execution_count": 23,
     "metadata": {},
     "output_type": "execute_result"
    }
   ],
   "source": [
    "import matplotlib.font_manager\n",
    "from IPython.core.display import HTML\n",
    "\n",
    "\n",
    "def make_html(fontname):\n",
    "    return \"<p>{font}: <span style='font-family:{font}; font-size: 24px;'>{font}</p>\".format(font=fontname)\n",
    "\n",
    "\n",
    "code = \"\\n\".join([make_html(font) for font in sorted(\n",
    "    set([f.name for f in matplotlib.font_manager.fontManager.ttflist]))])\n",
    "\n",
    "HTML(\"<div style='column-count: 2;'>{}</div>\".format(code))\n"
   ]
  },
  {
   "cell_type": "code",
   "execution_count": null,
   "metadata": {},
   "outputs": [],
   "source": [
    "rng = np.random.default_rng(seed=2021)\n",
    "sample_length = rng.normal(220, 300, size=(500,))\n",
    "sample_width = sample_length\n",
    "\n"
   ]
  },
  {
   "cell_type": "code",
   "execution_count": 29,
   "metadata": {},
   "outputs": [],
   "source": [
    "length = np.linspace(220,300,100).reshape(-1,1)\n",
    "width = np.linspace(85, 110, 100).reshape(-1, 1)\n"
   ]
  },
  {
   "cell_type": "code",
   "execution_count": 30,
   "metadata": {},
   "outputs": [],
   "source": [
    "beta_hat = np.linalg.pinv(length.T @ length) @ length.T @ width\n"
   ]
  },
  {
   "cell_type": "code",
   "execution_count": 31,
   "metadata": {},
   "outputs": [
    {
     "data": {
      "text/plain": [
       "<matplotlib.collections.PathCollection at 0x7f94f92a4910>"
      ]
     },
     "execution_count": 31,
     "metadata": {},
     "output_type": "execute_result"
    },
    {
     "data": {
      "image/png": "[encoded data removed]",
      "text/plain": [
       "<Figure size 432x288 with 1 Axes>"
      ]
     },
     "metadata": {
      "needs_background": "light"
     },
     "output_type": "display_data"
    }
   ],
   "source": [
    "plt.scatter(length, width)\n"
   ]
  },
  {
   "cell_type": "code",
   "execution_count": 42,
   "metadata": {},
   "outputs": [
    {
     "data": {
      "text/plain": [
       "<matplotlib.collections.PathCollection at 0x7f94a900e210>"
      ]
     },
     "execution_count": 42,
     "metadata": {},
     "output_type": "execute_result"
    },
    {
     "data": {
      "image/png": "[encoded data removed]",
      "text/plain": [
       "<Figure size 432x288 with 1 Axes>"
      ]
     },
     "metadata": {
      "needs_background": "light"
     },
     "output_type": "display_data"
    }
   ],
   "source": [
    "rng = np.random.default_rng(seed=2021)\n",
    "\n",
    "sample_length = rng.normal(260, 20, size=(500,))\n",
    "sample_width = rng.normal(sample_length*0.374,10)\n",
    "plt.scatter(sample_width, sample_length)\n"
   ]
  },
  {
   "cell_type": "code",
   "execution_count": 39,
   "metadata": {},
   "outputs": [
    {
     "data": {
      "text/plain": [
       "<matplotlib.collections.PathCollection at 0x7f9478046610>"
      ]
     },
     "execution_count": 39,
     "metadata": {},
     "output_type": "execute_result"
    },
    {
     "data": {
      "image/png": "[encoded data removed]",
      "text/plain": [
       "<Figure size 432x288 with 1 Axes>"
      ]
     },
     "metadata": {
      "needs_background": "light"
     },
     "output_type": "display_data"
    }
   ],
   "source": [
    "plt.scatter(sample_width, sample_length)\n"
   ]
  },
  {
   "cell_type": "markdown",
   "metadata": {},
   "source": [
    "sample_width"
   ]
  },
  {
   "cell_type": "code",
   "execution_count": 43,
   "metadata": {},
   "outputs": [
    {
     "data": {
      "text/plain": [
       "139.22204067330063"
      ]
     },
     "execution_count": 43,
     "metadata": {},
     "output_type": "execute_result"
    }
   ],
   "source": [
    "np.sum((sample_width - np.mean(sample_width)) *\n",
    "       (sample_length - np.mean(sample_length)))/(sample_length.shape[0] - 1)\n"
   ]
  },
  {
   "cell_type": "code",
   "execution_count": 45,
   "metadata": {},
   "outputs": [
    {
     "data": {
      "text/plain": [
       "array([[1.        , 0.57100513],\n",
       "       [0.57100513, 1.        ]])"
      ]
     },
     "execution_count": 45,
     "metadata": {},
     "output_type": "execute_result"
    }
   ],
   "source": [
    "np.corrcoef((sample_length, sample_width))\n"
   ]
  },
  {
   "cell_type": "markdown",
   "metadata": {},
   "source": [
    "$-\\infty$ to $\\infty$"
   ]
  },
  {
   "cell_type": "markdown",
   "metadata": {},
   "source": []
  }
 ],
 "metadata": {
  "interpreter": {
   "hash": "dca0ade3e726a953b501b15e8e990130d2b7799f14cfd9f4271676035ebe5511"
  },
  "kernelspec": {
   "display_name": "Python 3.7.9 64-bit ('base': conda)",
   "name": "python3"
  },
  "language_info": {
   "codemirror_mode": {
    "name": "ipython",
    "version": 3
   },
   "file_extension": ".py",
   "mimetype": "text/x-python",
   "name": "python",
   "nbconvert_exporter": "python",
   "pygments_lexer": "ipython3",
   "version": "3.7.9"
  },
  "orig_nbformat": 4
 },
 "nbformat": 4,
 "nbformat_minor": 2
}